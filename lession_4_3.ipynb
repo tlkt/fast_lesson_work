{
  "nbformat": 4,
  "nbformat_minor": 0,
  "metadata": {
    "colab": {
      "name": "lession_4_3.ipynb",
      "provenance": [],
      "authorship_tag": "ABX9TyMd6qaoW5CZs69IHoJZOsh6",
      "include_colab_link": true
    },
    "kernelspec": {
      "name": "python3",
      "display_name": "Python 3"
    },
    "accelerator": "GPU"
  },
  "cells": [
    {
      "cell_type": "markdown",
      "metadata": {
        "id": "view-in-github",
        "colab_type": "text"
      },
      "source": [
        "<a href=\"https://colab.research.google.com/github/tlkt/fast_lesson_work/blob/master/lession_4_3.ipynb\" target=\"_parent\"><img src=\"https://colab.research.google.com/assets/colab-badge.svg\" alt=\"Open In Colab\"/></a>"
      ]
    },
    {
      "cell_type": "code",
      "metadata": {
        "id": "_hBTMkcxaPbO",
        "colab_type": "code",
        "colab": {
          "base_uri": "https://localhost:8080/",
          "height": 122
        },
        "outputId": "9bf0b2b0-24f5-4d00-e8f9-ab14ddb1e6f1"
      },
      "source": [
        "from google.colab import drive\n",
        "drive.mount('/content/drive')"
      ],
      "execution_count": 1,
      "outputs": [
        {
          "output_type": "stream",
          "text": [
            "Go to this URL in a browser: https://accounts.google.com/o/oauth2/auth?client_id=947318989803-6bn6qk8qdgf4n4g3pfee6491hc0brc4i.apps.googleusercontent.com&redirect_uri=urn%3aietf%3awg%3aoauth%3a2.0%3aoob&response_type=code&scope=email%20https%3a%2f%2fwww.googleapis.com%2fauth%2fdocs.test%20https%3a%2f%2fwww.googleapis.com%2fauth%2fdrive%20https%3a%2f%2fwww.googleapis.com%2fauth%2fdrive.photos.readonly%20https%3a%2f%2fwww.googleapis.com%2fauth%2fpeopleapi.readonly\n",
            "\n",
            "Enter your authorization code:\n",
            "··········\n",
            "Mounted at /content/drive\n"
          ],
          "name": "stdout"
        }
      ]
    },
    {
      "cell_type": "code",
      "metadata": {
        "id": "5ZSFHLp8aZ8o",
        "colab_type": "code",
        "colab": {}
      },
      "source": [
        "from fastai.collab import *\n",
        "from fastai.tabular import *"
      ],
      "execution_count": 0,
      "outputs": []
    },
    {
      "cell_type": "code",
      "metadata": {
        "id": "7V13nYmfamsa",
        "colab_type": "code",
        "colab": {}
      },
      "source": [
        "user,item,title='userId','movieId','title'"
      ],
      "execution_count": 0,
      "outputs": []
    },
    {
      "cell_type": "code",
      "metadata": {
        "id": "mmdFQAtFasjk",
        "colab_type": "code",
        "colab": {
          "base_uri": "https://localhost:8080/",
          "height": 34
        },
        "outputId": "53c6e1fa-ec49-467e-ddfc-0a09cef1016a"
      },
      "source": [
        "path = untar_data(URLs.ML_SAMPLE)\n",
        "path"
      ],
      "execution_count": 12,
      "outputs": [
        {
          "output_type": "execute_result",
          "data": {
            "text/plain": [
              "PosixPath('/root/.fastai/data/movie_lens_sample')"
            ]
          },
          "metadata": {
            "tags": []
          },
          "execution_count": 12
        }
      ]
    },
    {
      "cell_type": "code",
      "metadata": {
        "id": "2IcFWluNawHe",
        "colab_type": "code",
        "colab": {
          "base_uri": "https://localhost:8080/",
          "height": 204
        },
        "outputId": "54f4e416-2fa4-43d5-eb12-3b4a1d39b72f"
      },
      "source": [
        "ratings = pd.read_csv(path/'ratings.csv')\n",
        "ratings.head()"
      ],
      "execution_count": 13,
      "outputs": [
        {
          "output_type": "execute_result",
          "data": {
            "text/html": [
              "<div>\n",
              "<style scoped>\n",
              "    .dataframe tbody tr th:only-of-type {\n",
              "        vertical-align: middle;\n",
              "    }\n",
              "\n",
              "    .dataframe tbody tr th {\n",
              "        vertical-align: top;\n",
              "    }\n",
              "\n",
              "    .dataframe thead th {\n",
              "        text-align: right;\n",
              "    }\n",
              "</style>\n",
              "<table border=\"1\" class=\"dataframe\">\n",
              "  <thead>\n",
              "    <tr style=\"text-align: right;\">\n",
              "      <th></th>\n",
              "      <th>userId</th>\n",
              "      <th>movieId</th>\n",
              "      <th>rating</th>\n",
              "      <th>timestamp</th>\n",
              "    </tr>\n",
              "  </thead>\n",
              "  <tbody>\n",
              "    <tr>\n",
              "      <th>0</th>\n",
              "      <td>73</td>\n",
              "      <td>1097</td>\n",
              "      <td>4.0</td>\n",
              "      <td>1255504951</td>\n",
              "    </tr>\n",
              "    <tr>\n",
              "      <th>1</th>\n",
              "      <td>561</td>\n",
              "      <td>924</td>\n",
              "      <td>3.5</td>\n",
              "      <td>1172695223</td>\n",
              "    </tr>\n",
              "    <tr>\n",
              "      <th>2</th>\n",
              "      <td>157</td>\n",
              "      <td>260</td>\n",
              "      <td>3.5</td>\n",
              "      <td>1291598691</td>\n",
              "    </tr>\n",
              "    <tr>\n",
              "      <th>3</th>\n",
              "      <td>358</td>\n",
              "      <td>1210</td>\n",
              "      <td>5.0</td>\n",
              "      <td>957481884</td>\n",
              "    </tr>\n",
              "    <tr>\n",
              "      <th>4</th>\n",
              "      <td>130</td>\n",
              "      <td>316</td>\n",
              "      <td>2.0</td>\n",
              "      <td>1138999234</td>\n",
              "    </tr>\n",
              "  </tbody>\n",
              "</table>\n",
              "</div>"
            ],
            "text/plain": [
              "   userId  movieId  rating   timestamp\n",
              "0      73     1097     4.0  1255504951\n",
              "1     561      924     3.5  1172695223\n",
              "2     157      260     3.5  1291598691\n",
              "3     358     1210     5.0   957481884\n",
              "4     130      316     2.0  1138999234"
            ]
          },
          "metadata": {
            "tags": []
          },
          "execution_count": 13
        }
      ]
    },
    {
      "cell_type": "code",
      "metadata": {
        "id": "0UjK9hIca7JD",
        "colab_type": "code",
        "colab": {}
      },
      "source": [
        "data = CollabDataBunch.from_df(ratings,seed=42)\n",
        "y_rang = [0,5,5]"
      ],
      "execution_count": 0,
      "outputs": []
    },
    {
      "cell_type": "code",
      "metadata": {
        "id": "LGZm1LljbE1v",
        "colab_type": "code",
        "colab": {
          "base_uri": "https://localhost:8080/",
          "height": 142
        },
        "outputId": "07932640-72b0-413a-fcf4-f750549caf35"
      },
      "source": [
        "learn = collab_learner(data,n_factors=50,y_range=y_rang)\n",
        "learn.fit_one_cycle(3,5e-3)"
      ],
      "execution_count": 16,
      "outputs": [
        {
          "output_type": "display_data",
          "data": {
            "text/html": [
              "<table border=\"1\" class=\"dataframe\">\n",
              "  <thead>\n",
              "    <tr style=\"text-align: left;\">\n",
              "      <th>epoch</th>\n",
              "      <th>train_loss</th>\n",
              "      <th>valid_loss</th>\n",
              "      <th>time</th>\n",
              "    </tr>\n",
              "  </thead>\n",
              "  <tbody>\n",
              "    <tr>\n",
              "      <td>0</td>\n",
              "      <td>2.041571</td>\n",
              "      <td>1.080073</td>\n",
              "      <td>00:00</td>\n",
              "    </tr>\n",
              "    <tr>\n",
              "      <td>1</td>\n",
              "      <td>0.933458</td>\n",
              "      <td>0.679021</td>\n",
              "      <td>00:00</td>\n",
              "    </tr>\n",
              "    <tr>\n",
              "      <td>2</td>\n",
              "      <td>0.684714</td>\n",
              "      <td>0.670983</td>\n",
              "      <td>00:00</td>\n",
              "    </tr>\n",
              "  </tbody>\n",
              "</table>"
            ],
            "text/plain": [
              "<IPython.core.display.HTML object>"
            ]
          },
          "metadata": {
            "tags": []
          }
        }
      ]
    },
    {
      "cell_type": "code",
      "metadata": {
        "id": "pCi7tIXsbNus",
        "colab_type": "code",
        "colab": {
          "base_uri": "https://localhost:8080/",
          "height": 204
        },
        "outputId": "98374a9c-00f1-4ffa-c1d1-2b81d693673a"
      },
      "source": [
        "! wget http://files.grouplens.org/datasets/movielens/ml-100k.zip"
      ],
      "execution_count": 21,
      "outputs": [
        {
          "output_type": "stream",
          "text": [
            "--2020-01-15 23:02:07--  http://files.grouplens.org/datasets/movielens/ml-100k.zip\n",
            "Resolving files.grouplens.org (files.grouplens.org)... 128.101.65.152\n",
            "Connecting to files.grouplens.org (files.grouplens.org)|128.101.65.152|:80... connected.\n",
            "HTTP request sent, awaiting response... 200 OK\n",
            "Length: 4924029 (4.7M) [application/zip]\n",
            "Saving to: ‘ml-100k.zip’\n",
            "\n",
            "\rml-100k.zip           0%[                    ]       0  --.-KB/s               \rml-100k.zip         100%[===================>]   4.70M  29.3MB/s    in 0.2s    \n",
            "\n",
            "2020-01-15 23:02:07 (29.3 MB/s) - ‘ml-100k.zip’ saved [4924029/4924029]\n",
            "\n"
          ],
          "name": "stdout"
        }
      ]
    },
    {
      "cell_type": "code",
      "metadata": {
        "id": "yNYS37QCcXPt",
        "colab_type": "code",
        "colab": {}
      },
      "source": [
        "! mv ml-100k '/root/.fastai/data'"
      ],
      "execution_count": 0,
      "outputs": []
    },
    {
      "cell_type": "code",
      "metadata": {
        "id": "-A90hBSqb05Y",
        "colab_type": "code",
        "colab": {}
      },
      "source": [
        "path=Config.data_path()/'ml-100k'"
      ],
      "execution_count": 0,
      "outputs": []
    },
    {
      "cell_type": "code",
      "metadata": {
        "id": "92CvfYSWcGvm",
        "colab_type": "code",
        "colab": {}
      },
      "source": [
        "ratings = pd.read_csv(path/'u.data',delimiter='\\t',header=None,names=[user,item,'rating','timestamp'])"
      ],
      "execution_count": 0,
      "outputs": []
    },
    {
      "cell_type": "code",
      "metadata": {
        "id": "15r1NBn6dF48",
        "colab_type": "code",
        "colab": {
          "base_uri": "https://localhost:8080/",
          "height": 204
        },
        "outputId": "15fbffec-27d2-426b-d241-dd0cabb2d345"
      },
      "source": [
        "ratings.head()"
      ],
      "execution_count": 31,
      "outputs": [
        {
          "output_type": "execute_result",
          "data": {
            "text/html": [
              "<div>\n",
              "<style scoped>\n",
              "    .dataframe tbody tr th:only-of-type {\n",
              "        vertical-align: middle;\n",
              "    }\n",
              "\n",
              "    .dataframe tbody tr th {\n",
              "        vertical-align: top;\n",
              "    }\n",
              "\n",
              "    .dataframe thead th {\n",
              "        text-align: right;\n",
              "    }\n",
              "</style>\n",
              "<table border=\"1\" class=\"dataframe\">\n",
              "  <thead>\n",
              "    <tr style=\"text-align: right;\">\n",
              "      <th></th>\n",
              "      <th>userId</th>\n",
              "      <th>movieId</th>\n",
              "      <th>rating</th>\n",
              "      <th>timestamp</th>\n",
              "    </tr>\n",
              "  </thead>\n",
              "  <tbody>\n",
              "    <tr>\n",
              "      <th>0</th>\n",
              "      <td>196</td>\n",
              "      <td>242</td>\n",
              "      <td>3</td>\n",
              "      <td>881250949</td>\n",
              "    </tr>\n",
              "    <tr>\n",
              "      <th>1</th>\n",
              "      <td>186</td>\n",
              "      <td>302</td>\n",
              "      <td>3</td>\n",
              "      <td>891717742</td>\n",
              "    </tr>\n",
              "    <tr>\n",
              "      <th>2</th>\n",
              "      <td>22</td>\n",
              "      <td>377</td>\n",
              "      <td>1</td>\n",
              "      <td>878887116</td>\n",
              "    </tr>\n",
              "    <tr>\n",
              "      <th>3</th>\n",
              "      <td>244</td>\n",
              "      <td>51</td>\n",
              "      <td>2</td>\n",
              "      <td>880606923</td>\n",
              "    </tr>\n",
              "    <tr>\n",
              "      <th>4</th>\n",
              "      <td>166</td>\n",
              "      <td>346</td>\n",
              "      <td>1</td>\n",
              "      <td>886397596</td>\n",
              "    </tr>\n",
              "  </tbody>\n",
              "</table>\n",
              "</div>"
            ],
            "text/plain": [
              "   userId  movieId  rating  timestamp\n",
              "0     196      242       3  881250949\n",
              "1     186      302       3  891717742\n",
              "2      22      377       1  878887116\n",
              "3     244       51       2  880606923\n",
              "4     166      346       1  886397596"
            ]
          },
          "metadata": {
            "tags": []
          },
          "execution_count": 31
        }
      ]
    },
    {
      "cell_type": "code",
      "metadata": {
        "id": "3iHjEUkhdHjA",
        "colab_type": "code",
        "colab": {
          "base_uri": "https://localhost:8080/",
          "height": 289
        },
        "outputId": "35273978-f5f0-44ba-fadb-5b2f37987495"
      },
      "source": [
        "movies = pd.read_csv(path/'u.item',delimiter='|',encoding='latin-1',header=None,names=[item,'title','date','N','url',*[f'g{i}' for i in range(19)]])\n",
        "movies.head()"
      ],
      "execution_count": 32,
      "outputs": [
        {
          "output_type": "execute_result",
          "data": {
            "text/html": [
              "<div>\n",
              "<style scoped>\n",
              "    .dataframe tbody tr th:only-of-type {\n",
              "        vertical-align: middle;\n",
              "    }\n",
              "\n",
              "    .dataframe tbody tr th {\n",
              "        vertical-align: top;\n",
              "    }\n",
              "\n",
              "    .dataframe thead th {\n",
              "        text-align: right;\n",
              "    }\n",
              "</style>\n",
              "<table border=\"1\" class=\"dataframe\">\n",
              "  <thead>\n",
              "    <tr style=\"text-align: right;\">\n",
              "      <th></th>\n",
              "      <th>movieId</th>\n",
              "      <th>title</th>\n",
              "      <th>date</th>\n",
              "      <th>N</th>\n",
              "      <th>url</th>\n",
              "      <th>g0</th>\n",
              "      <th>g1</th>\n",
              "      <th>g2</th>\n",
              "      <th>g3</th>\n",
              "      <th>g4</th>\n",
              "      <th>g5</th>\n",
              "      <th>g6</th>\n",
              "      <th>g7</th>\n",
              "      <th>g8</th>\n",
              "      <th>g9</th>\n",
              "      <th>g10</th>\n",
              "      <th>g11</th>\n",
              "      <th>g12</th>\n",
              "      <th>g13</th>\n",
              "      <th>g14</th>\n",
              "      <th>g15</th>\n",
              "      <th>g16</th>\n",
              "      <th>g17</th>\n",
              "      <th>g18</th>\n",
              "    </tr>\n",
              "  </thead>\n",
              "  <tbody>\n",
              "    <tr>\n",
              "      <th>0</th>\n",
              "      <td>1</td>\n",
              "      <td>Toy Story (1995)</td>\n",
              "      <td>01-Jan-1995</td>\n",
              "      <td>NaN</td>\n",
              "      <td>http://us.imdb.com/M/title-exact?Toy%20Story%2...</td>\n",
              "      <td>0</td>\n",
              "      <td>0</td>\n",
              "      <td>0</td>\n",
              "      <td>1</td>\n",
              "      <td>1</td>\n",
              "      <td>1</td>\n",
              "      <td>0</td>\n",
              "      <td>0</td>\n",
              "      <td>0</td>\n",
              "      <td>0</td>\n",
              "      <td>0</td>\n",
              "      <td>0</td>\n",
              "      <td>0</td>\n",
              "      <td>0</td>\n",
              "      <td>0</td>\n",
              "      <td>0</td>\n",
              "      <td>0</td>\n",
              "      <td>0</td>\n",
              "      <td>0</td>\n",
              "    </tr>\n",
              "    <tr>\n",
              "      <th>1</th>\n",
              "      <td>2</td>\n",
              "      <td>GoldenEye (1995)</td>\n",
              "      <td>01-Jan-1995</td>\n",
              "      <td>NaN</td>\n",
              "      <td>http://us.imdb.com/M/title-exact?GoldenEye%20(...</td>\n",
              "      <td>0</td>\n",
              "      <td>1</td>\n",
              "      <td>1</td>\n",
              "      <td>0</td>\n",
              "      <td>0</td>\n",
              "      <td>0</td>\n",
              "      <td>0</td>\n",
              "      <td>0</td>\n",
              "      <td>0</td>\n",
              "      <td>0</td>\n",
              "      <td>0</td>\n",
              "      <td>0</td>\n",
              "      <td>0</td>\n",
              "      <td>0</td>\n",
              "      <td>0</td>\n",
              "      <td>0</td>\n",
              "      <td>1</td>\n",
              "      <td>0</td>\n",
              "      <td>0</td>\n",
              "    </tr>\n",
              "    <tr>\n",
              "      <th>2</th>\n",
              "      <td>3</td>\n",
              "      <td>Four Rooms (1995)</td>\n",
              "      <td>01-Jan-1995</td>\n",
              "      <td>NaN</td>\n",
              "      <td>http://us.imdb.com/M/title-exact?Four%20Rooms%...</td>\n",
              "      <td>0</td>\n",
              "      <td>0</td>\n",
              "      <td>0</td>\n",
              "      <td>0</td>\n",
              "      <td>0</td>\n",
              "      <td>0</td>\n",
              "      <td>0</td>\n",
              "      <td>0</td>\n",
              "      <td>0</td>\n",
              "      <td>0</td>\n",
              "      <td>0</td>\n",
              "      <td>0</td>\n",
              "      <td>0</td>\n",
              "      <td>0</td>\n",
              "      <td>0</td>\n",
              "      <td>0</td>\n",
              "      <td>1</td>\n",
              "      <td>0</td>\n",
              "      <td>0</td>\n",
              "    </tr>\n",
              "    <tr>\n",
              "      <th>3</th>\n",
              "      <td>4</td>\n",
              "      <td>Get Shorty (1995)</td>\n",
              "      <td>01-Jan-1995</td>\n",
              "      <td>NaN</td>\n",
              "      <td>http://us.imdb.com/M/title-exact?Get%20Shorty%...</td>\n",
              "      <td>0</td>\n",
              "      <td>1</td>\n",
              "      <td>0</td>\n",
              "      <td>0</td>\n",
              "      <td>0</td>\n",
              "      <td>1</td>\n",
              "      <td>0</td>\n",
              "      <td>0</td>\n",
              "      <td>1</td>\n",
              "      <td>0</td>\n",
              "      <td>0</td>\n",
              "      <td>0</td>\n",
              "      <td>0</td>\n",
              "      <td>0</td>\n",
              "      <td>0</td>\n",
              "      <td>0</td>\n",
              "      <td>0</td>\n",
              "      <td>0</td>\n",
              "      <td>0</td>\n",
              "    </tr>\n",
              "    <tr>\n",
              "      <th>4</th>\n",
              "      <td>5</td>\n",
              "      <td>Copycat (1995)</td>\n",
              "      <td>01-Jan-1995</td>\n",
              "      <td>NaN</td>\n",
              "      <td>http://us.imdb.com/M/title-exact?Copycat%20(1995)</td>\n",
              "      <td>0</td>\n",
              "      <td>0</td>\n",
              "      <td>0</td>\n",
              "      <td>0</td>\n",
              "      <td>0</td>\n",
              "      <td>0</td>\n",
              "      <td>1</td>\n",
              "      <td>0</td>\n",
              "      <td>1</td>\n",
              "      <td>0</td>\n",
              "      <td>0</td>\n",
              "      <td>0</td>\n",
              "      <td>0</td>\n",
              "      <td>0</td>\n",
              "      <td>0</td>\n",
              "      <td>0</td>\n",
              "      <td>1</td>\n",
              "      <td>0</td>\n",
              "      <td>0</td>\n",
              "    </tr>\n",
              "  </tbody>\n",
              "</table>\n",
              "</div>"
            ],
            "text/plain": [
              "   movieId              title         date   N  ... g15  g16  g17  g18\n",
              "0        1   Toy Story (1995)  01-Jan-1995 NaN  ...   0    0    0    0\n",
              "1        2   GoldenEye (1995)  01-Jan-1995 NaN  ...   0    1    0    0\n",
              "2        3  Four Rooms (1995)  01-Jan-1995 NaN  ...   0    1    0    0\n",
              "3        4  Get Shorty (1995)  01-Jan-1995 NaN  ...   0    0    0    0\n",
              "4        5     Copycat (1995)  01-Jan-1995 NaN  ...   0    1    0    0\n",
              "\n",
              "[5 rows x 24 columns]"
            ]
          },
          "metadata": {
            "tags": []
          },
          "execution_count": 32
        }
      ]
    },
    {
      "cell_type": "code",
      "metadata": {
        "id": "IEh9emt7dzel",
        "colab_type": "code",
        "colab": {
          "base_uri": "https://localhost:8080/",
          "height": 34
        },
        "outputId": "0cc511a7-0a5a-46a4-e82a-fc992a502cd7"
      },
      "source": [
        "len(ratings)"
      ],
      "execution_count": 33,
      "outputs": [
        {
          "output_type": "execute_result",
          "data": {
            "text/plain": [
              "100000"
            ]
          },
          "metadata": {
            "tags": []
          },
          "execution_count": 33
        }
      ]
    },
    {
      "cell_type": "code",
      "metadata": {
        "id": "3lfzuNSvd3jE",
        "colab_type": "code",
        "colab": {
          "base_uri": "https://localhost:8080/",
          "height": 204
        },
        "outputId": "5a923fcb-4dad-4697-b1e8-d020f20617f7"
      },
      "source": [
        "rating_movie = ratings.merge(movies[[item,title]])\n",
        "rating_movie.head()"
      ],
      "execution_count": 34,
      "outputs": [
        {
          "output_type": "execute_result",
          "data": {
            "text/html": [
              "<div>\n",
              "<style scoped>\n",
              "    .dataframe tbody tr th:only-of-type {\n",
              "        vertical-align: middle;\n",
              "    }\n",
              "\n",
              "    .dataframe tbody tr th {\n",
              "        vertical-align: top;\n",
              "    }\n",
              "\n",
              "    .dataframe thead th {\n",
              "        text-align: right;\n",
              "    }\n",
              "</style>\n",
              "<table border=\"1\" class=\"dataframe\">\n",
              "  <thead>\n",
              "    <tr style=\"text-align: right;\">\n",
              "      <th></th>\n",
              "      <th>userId</th>\n",
              "      <th>movieId</th>\n",
              "      <th>rating</th>\n",
              "      <th>timestamp</th>\n",
              "      <th>title</th>\n",
              "    </tr>\n",
              "  </thead>\n",
              "  <tbody>\n",
              "    <tr>\n",
              "      <th>0</th>\n",
              "      <td>196</td>\n",
              "      <td>242</td>\n",
              "      <td>3</td>\n",
              "      <td>881250949</td>\n",
              "      <td>Kolya (1996)</td>\n",
              "    </tr>\n",
              "    <tr>\n",
              "      <th>1</th>\n",
              "      <td>63</td>\n",
              "      <td>242</td>\n",
              "      <td>3</td>\n",
              "      <td>875747190</td>\n",
              "      <td>Kolya (1996)</td>\n",
              "    </tr>\n",
              "    <tr>\n",
              "      <th>2</th>\n",
              "      <td>226</td>\n",
              "      <td>242</td>\n",
              "      <td>5</td>\n",
              "      <td>883888671</td>\n",
              "      <td>Kolya (1996)</td>\n",
              "    </tr>\n",
              "    <tr>\n",
              "      <th>3</th>\n",
              "      <td>154</td>\n",
              "      <td>242</td>\n",
              "      <td>3</td>\n",
              "      <td>879138235</td>\n",
              "      <td>Kolya (1996)</td>\n",
              "    </tr>\n",
              "    <tr>\n",
              "      <th>4</th>\n",
              "      <td>306</td>\n",
              "      <td>242</td>\n",
              "      <td>5</td>\n",
              "      <td>876503793</td>\n",
              "      <td>Kolya (1996)</td>\n",
              "    </tr>\n",
              "  </tbody>\n",
              "</table>\n",
              "</div>"
            ],
            "text/plain": [
              "   userId  movieId  rating  timestamp         title\n",
              "0     196      242       3  881250949  Kolya (1996)\n",
              "1      63      242       3  875747190  Kolya (1996)\n",
              "2     226      242       5  883888671  Kolya (1996)\n",
              "3     154      242       3  879138235  Kolya (1996)\n",
              "4     306      242       5  876503793  Kolya (1996)"
            ]
          },
          "metadata": {
            "tags": []
          },
          "execution_count": 34
        }
      ]
    },
    {
      "cell_type": "code",
      "metadata": {
        "id": "zvbS4TdaeCDB",
        "colab_type": "code",
        "colab": {
          "base_uri": "https://localhost:8080/",
          "height": 204
        },
        "outputId": "d7bf977f-7a04-4fd2-dd0f-cc57acbdf806"
      },
      "source": [
        "data = CollabDataBunch.from_df(rating_movie,seed=42,valid_pct=0.1,item_name=title)\n",
        "data.show_batch()"
      ],
      "execution_count": 35,
      "outputs": [
        {
          "output_type": "display_data",
          "data": {
            "text/html": [
              "<table border=\"1\" class=\"dataframe\">\n",
              "  <thead>\n",
              "    <tr style=\"text-align: right;\">\n",
              "      <th>userId</th>\n",
              "      <th>title</th>\n",
              "      <th>target</th>\n",
              "    </tr>\n",
              "  </thead>\n",
              "  <tbody>\n",
              "    <tr>\n",
              "      <td>539</td>\n",
              "      <td>Groundhog Day (1993)</td>\n",
              "      <td>5.0</td>\n",
              "    </tr>\n",
              "    <tr>\n",
              "      <td>268</td>\n",
              "      <td>Phantom, The (1996)</td>\n",
              "      <td>1.0</td>\n",
              "    </tr>\n",
              "    <tr>\n",
              "      <td>521</td>\n",
              "      <td>So I Married an Axe Murderer (1993)</td>\n",
              "      <td>2.0</td>\n",
              "    </tr>\n",
              "    <tr>\n",
              "      <td>214</td>\n",
              "      <td>Forrest Gump (1994)</td>\n",
              "      <td>2.0</td>\n",
              "    </tr>\n",
              "    <tr>\n",
              "      <td>727</td>\n",
              "      <td>Wes Craven's New Nightmare (1994)</td>\n",
              "      <td>2.0</td>\n",
              "    </tr>\n",
              "  </tbody>\n",
              "</table>"
            ],
            "text/plain": [
              "<IPython.core.display.HTML object>"
            ]
          },
          "metadata": {
            "tags": []
          }
        }
      ]
    },
    {
      "cell_type": "code",
      "metadata": {
        "id": "hFi3E8nyeOoy",
        "colab_type": "code",
        "colab": {}
      },
      "source": [
        "y_range=[0,5.5]\n",
        "learn = collab_learner(data,n_factors=40,y_range=y_rang,wd=1e-1)"
      ],
      "execution_count": 0,
      "outputs": []
    },
    {
      "cell_type": "code",
      "metadata": {
        "id": "fqjFd23NeY7q",
        "colab_type": "code",
        "colab": {
          "base_uri": "https://localhost:8080/",
          "height": 377
        },
        "outputId": "4a575a09-3207-4031-91cd-0392362de3cc"
      },
      "source": [
        "learn.lr_find()\n",
        "learn.recorder.plot(skip_end=15)"
      ],
      "execution_count": 37,
      "outputs": [
        {
          "output_type": "display_data",
          "data": {
            "text/html": [
              "\n",
              "    <div>\n",
              "        <style>\n",
              "            /* Turns off some styling */\n",
              "            progress {\n",
              "                /* gets rid of default border in Firefox and Opera. */\n",
              "                border: none;\n",
              "                /* Needs to be in here for Safari polyfill so background images work as expected. */\n",
              "                background-size: auto;\n",
              "            }\n",
              "            .progress-bar-interrupted, .progress-bar-interrupted::-webkit-progress-bar {\n",
              "                background: #F44336;\n",
              "            }\n",
              "        </style>\n",
              "      <progress value='0' class='' max='1', style='width:300px; height:20px; vertical-align: middle;'></progress>\n",
              "      0.00% [0/1 00:00<00:00]\n",
              "    </div>\n",
              "    \n",
              "<table border=\"1\" class=\"dataframe\">\n",
              "  <thead>\n",
              "    <tr style=\"text-align: left;\">\n",
              "      <th>epoch</th>\n",
              "      <th>train_loss</th>\n",
              "      <th>valid_loss</th>\n",
              "      <th>time</th>\n",
              "    </tr>\n",
              "  </thead>\n",
              "  <tbody>\n",
              "  </tbody>\n",
              "</table><p>\n",
              "\n",
              "    <div>\n",
              "        <style>\n",
              "            /* Turns off some styling */\n",
              "            progress {\n",
              "                /* gets rid of default border in Firefox and Opera. */\n",
              "                border: none;\n",
              "                /* Needs to be in here for Safari polyfill so background images work as expected. */\n",
              "                background-size: auto;\n",
              "            }\n",
              "            .progress-bar-interrupted, .progress-bar-interrupted::-webkit-progress-bar {\n",
              "                background: #F44336;\n",
              "            }\n",
              "        </style>\n",
              "      <progress value='79' class='' max='1406', style='width:300px; height:20px; vertical-align: middle;'></progress>\n",
              "      5.62% [79/1406 00:00<00:10 2.1994]\n",
              "    </div>\n",
              "    "
            ],
            "text/plain": [
              "<IPython.core.display.HTML object>"
            ]
          },
          "metadata": {
            "tags": []
          }
        },
        {
          "output_type": "stream",
          "text": [
            "LR Finder is complete, type {learner_name}.recorder.plot() to see the graph.\n"
          ],
          "name": "stdout"
        },
        {
          "output_type": "display_data",
          "data": {
            "image/png": "[encoded data removed]",
            "text/plain": [
              "<Figure size 432x288 with 1 Axes>"
            ]
          },
          "metadata": {
            "tags": []
          }
        }
      ]
    },
    {
      "cell_type": "code",
      "metadata": {
        "id": "mQK1nEqjefL2",
        "colab_type": "code",
        "colab": {
          "base_uri": "https://localhost:8080/",
          "height": 204
        },
        "outputId": "f62855d6-3e12-4c0d-a489-17cefb4a59d4"
      },
      "source": [
        "learn.fit_one_cycle(5,5e-3)"
      ],
      "execution_count": 38,
      "outputs": [
        {
          "output_type": "display_data",
          "data": {
            "text/html": [
              "<table border=\"1\" class=\"dataframe\">\n",
              "  <thead>\n",
              "    <tr style=\"text-align: left;\">\n",
              "      <th>epoch</th>\n",
              "      <th>train_loss</th>\n",
              "      <th>valid_loss</th>\n",
              "      <th>time</th>\n",
              "    </tr>\n",
              "  </thead>\n",
              "  <tbody>\n",
              "    <tr>\n",
              "      <td>0</td>\n",
              "      <td>0.967709</td>\n",
              "      <td>0.960572</td>\n",
              "      <td>00:09</td>\n",
              "    </tr>\n",
              "    <tr>\n",
              "      <td>1</td>\n",
              "      <td>0.877084</td>\n",
              "      <td>0.891843</td>\n",
              "      <td>00:09</td>\n",
              "    </tr>\n",
              "    <tr>\n",
              "      <td>2</td>\n",
              "      <td>0.798651</td>\n",
              "      <td>0.849343</td>\n",
              "      <td>00:09</td>\n",
              "    </tr>\n",
              "    <tr>\n",
              "      <td>3</td>\n",
              "      <td>0.710402</td>\n",
              "      <td>0.820386</td>\n",
              "      <td>00:09</td>\n",
              "    </tr>\n",
              "    <tr>\n",
              "      <td>4</td>\n",
              "      <td>0.653508</td>\n",
              "      <td>0.818433</td>\n",
              "      <td>00:09</td>\n",
              "    </tr>\n",
              "  </tbody>\n",
              "</table>"
            ],
            "text/plain": [
              "<IPython.core.display.HTML object>"
            ]
          },
          "metadata": {
            "tags": []
          }
        }
      ]
    },
    {
      "cell_type": "code",
      "metadata": {
        "id": "My0rhql2emQz",
        "colab_type": "code",
        "colab": {}
      },
      "source": [
        "learn.save('dotprod')"
      ],
      "execution_count": 0,
      "outputs": []
    },
    {
      "cell_type": "code",
      "metadata": {
        "id": "pqqdPAWQe0qQ",
        "colab_type": "code",
        "colab": {
          "base_uri": "https://localhost:8080/",
          "height": 496
        },
        "outputId": "e5a754c9-cf4d-4f0a-b5ae-270d4498a731"
      },
      "source": [
        "learn.load('dotprod')"
      ],
      "execution_count": 40,
      "outputs": [
        {
          "output_type": "execute_result",
          "data": {
            "text/plain": [
              "CollabLearner(data=TabularDataBunch;\n",
              "\n",
              "Train: LabelList (90000 items)\n",
              "x: CollabList\n",
              "userId 196; title Kolya (1996); ,userId 63; title Kolya (1996); ,userId 226; title Kolya (1996); ,userId 154; title Kolya (1996); ,userId 306; title Kolya (1996); \n",
              "y: FloatList\n",
              "3.0,3.0,5.0,3.0,5.0\n",
              "Path: .;\n",
              "\n",
              "Valid: LabelList (10000 items)\n",
              "x: CollabList\n",
              "userId 498; title Casino (1995); ,userId 642; title Pocahontas (1995); ,userId 58; title 2001: A Space Odyssey (1968); ,userId 495; title Cat People (1982); ,userId 618; title Philadelphia (1993); \n",
              "y: FloatList\n",
              "3.0,5.0,4.0,3.0,3.0\n",
              "Path: .;\n",
              "\n",
              "Test: None, model=EmbeddingDotBias(\n",
              "  (u_weight): Embedding(944, 40)\n",
              "  (i_weight): Embedding(1654, 40)\n",
              "  (u_bias): Embedding(944, 1)\n",
              "  (i_bias): Embedding(1654, 1)\n",
              "), opt_func=functools.partial(<class 'torch.optim.adam.Adam'>, betas=(0.9, 0.99)), loss_func=FlattenedLoss of MSELoss(), metrics=[], true_wd=True, bn_wd=True, wd=0.1, train_bn=True, path=PosixPath('.'), model_dir='models', callback_fns=[functools.partial(<class 'fastai.basic_train.Recorder'>, add_time=True, silent=False)], callbacks=[], layer_groups=[Sequential(\n",
              "  (0): Embedding(944, 40)\n",
              "  (1): Embedding(1654, 40)\n",
              "  (2): Embedding(944, 1)\n",
              "  (3): Embedding(1654, 1)\n",
              ")], add_time=True, silent=False)"
            ]
          },
          "metadata": {
            "tags": []
          },
          "execution_count": 40
        }
      ]
    },
    {
      "cell_type": "code",
      "metadata": {
        "id": "nTyVqu_je38Q",
        "colab_type": "code",
        "colab": {
          "base_uri": "https://localhost:8080/",
          "height": 119
        },
        "outputId": "2be942db-1c0d-48c3-b480-4ad44c40977f"
      },
      "source": [
        "learn.model"
      ],
      "execution_count": 41,
      "outputs": [
        {
          "output_type": "execute_result",
          "data": {
            "text/plain": [
              "EmbeddingDotBias(\n",
              "  (u_weight): Embedding(944, 40)\n",
              "  (i_weight): Embedding(1654, 40)\n",
              "  (u_bias): Embedding(944, 1)\n",
              "  (i_bias): Embedding(1654, 1)\n",
              ")"
            ]
          },
          "metadata": {
            "tags": []
          },
          "execution_count": 41
        }
      ]
    },
    {
      "cell_type": "code",
      "metadata": {
        "id": "8xiDLc5Pe5i-",
        "colab_type": "code",
        "colab": {
          "base_uri": "https://localhost:8080/",
          "height": 68
        },
        "outputId": "7f3a6de9-ca7f-43c2-fc2b-1efb0dfa4be9"
      },
      "source": [
        "g = rating_movie.groupby(title)['rating'].count()\n",
        "top_movies = g.sort_values(ascending=False).index.values[:1000]\n",
        "top_movies[:10]"
      ],
      "execution_count": 42,
      "outputs": [
        {
          "output_type": "execute_result",
          "data": {
            "text/plain": [
              "array(['Star Wars (1977)', 'Contact (1997)', 'Fargo (1996)', 'Return of the Jedi (1983)', 'Liar Liar (1997)',\n",
              "       'English Patient, The (1996)', 'Scream (1996)', 'Toy Story (1995)', 'Air Force One (1997)',\n",
              "       'Independence Day (ID4) (1996)'], dtype=object)"
            ]
          },
          "metadata": {
            "tags": []
          },
          "execution_count": 42
        }
      ]
    },
    {
      "cell_type": "code",
      "metadata": {
        "id": "M_KYVzdvfKo8",
        "colab_type": "code",
        "colab": {
          "base_uri": "https://localhost:8080/",
          "height": 34
        },
        "outputId": "3ab823d4-f465-4e4b-faa1-71aa7d4a1649"
      },
      "source": [
        "movie_bias = learn.bias(top_movies,is_item=True)\n",
        "movie_bias.shape"
      ],
      "execution_count": 43,
      "outputs": [
        {
          "output_type": "execute_result",
          "data": {
            "text/plain": [
              "torch.Size([1000])"
            ]
          },
          "metadata": {
            "tags": []
          },
          "execution_count": 43
        }
      ]
    },
    {
      "cell_type": "code",
      "metadata": {
        "id": "pwd_ZQtVfUaC",
        "colab_type": "code",
        "colab": {}
      },
      "source": [
        "mean_ratings = rating_movie.groupby(title)['rating'].mean()\n",
        "movie_ratings = [(b,i,mean_ratings.loc[i]) for i,b in zip(top_movies,movie_bias)]"
      ],
      "execution_count": 0,
      "outputs": []
    },
    {
      "cell_type": "code",
      "metadata": {
        "id": "_TP-C5AjfkOF",
        "colab_type": "code",
        "colab": {}
      },
      "source": [
        "item0 = lambda o:o[0]"
      ],
      "execution_count": 0,
      "outputs": []
    },
    {
      "cell_type": "code",
      "metadata": {
        "id": "SdlNDz-ifpxO",
        "colab_type": "code",
        "colab": {
          "base_uri": "https://localhost:8080/",
          "height": 374
        },
        "outputId": "72fc121e-8ec4-4b53-f7c6-a2f5491ad56d"
      },
      "source": [
        "sorted(movie_ratings,key=item0)[:15]"
      ],
      "execution_count": 47,
      "outputs": [
        {
          "output_type": "execute_result",
          "data": {
            "text/plain": [
              "[(tensor(-0.3317),\n",
              "  'Children of the Corn: The Gathering (1996)',\n",
              "  1.3157894736842106),\n",
              " (tensor(-0.2536),\n",
              "  'Lawnmower Man 2: Beyond Cyberspace (1996)',\n",
              "  1.7142857142857142),\n",
              " (tensor(-0.2121), 'Mortal Kombat: Annihilation (1997)', 1.9534883720930232),\n",
              " (tensor(-0.2105), 'Bio-Dome (1996)', 1.903225806451613),\n",
              " (tensor(-0.2066), 'Cable Guy, The (1996)', 2.339622641509434),\n",
              " (tensor(-0.2059), 'Striptease (1996)', 2.2388059701492535),\n",
              " (tensor(-0.1918), 'Thinner (1996)', 2.4489795918367347),\n",
              " (tensor(-0.1911), 'Crow: City of Angels, The (1996)', 1.9487179487179487),\n",
              " (tensor(-0.1705), \"Joe's Apartment (1996)\", 2.2444444444444445),\n",
              " (tensor(-0.1703), 'Barb Wire (1996)', 1.9333333333333333),\n",
              " (tensor(-0.1662), 'Home Alone 3 (1997)', 1.894736842105263),\n",
              " (tensor(-0.1660),\n",
              "  'Tales from the Crypt Presents: Bordello of Blood (1996)',\n",
              "  2.6363636363636362),\n",
              " (tensor(-0.1659), 'Island of Dr. Moreau, The (1996)', 2.1578947368421053),\n",
              " (tensor(-0.1617), 'Beautician and the Beast, The (1997)', 2.313953488372093),\n",
              " (tensor(-0.1567), 'Booty Call (1997)', 2.1666666666666665)]"
            ]
          },
          "metadata": {
            "tags": []
          },
          "execution_count": 47
        }
      ]
    },
    {
      "cell_type": "code",
      "metadata": {
        "id": "0khE00brfvAe",
        "colab_type": "code",
        "colab": {
          "base_uri": "https://localhost:8080/",
          "height": 272
        },
        "outputId": "aa16abd6-f836-4383-bd98-b39c7ff11bde"
      },
      "source": [
        "sorted(movie_ratings,key=lambda o:o[0],reverse=True)[:15]"
      ],
      "execution_count": 48,
      "outputs": [
        {
          "output_type": "execute_result",
          "data": {
            "text/plain": [
              "[(tensor(0.6198), 'L.A. Confidential (1997)', 4.161616161616162),\n",
              " (tensor(0.6124), 'Titanic (1997)', 4.2457142857142856),\n",
              " (tensor(0.5784), 'Shawshank Redemption, The (1994)', 4.445229681978798),\n",
              " (tensor(0.5773), \"Schindler's List (1993)\", 4.466442953020135),\n",
              " (tensor(0.5693), 'Silence of the Lambs, The (1991)', 4.28974358974359),\n",
              " (tensor(0.5271), 'Good Will Hunting (1997)', 4.262626262626263),\n",
              " (tensor(0.5216), 'Rear Window (1954)', 4.3875598086124405),\n",
              " (tensor(0.5127), 'Star Wars (1977)', 4.3584905660377355),\n",
              " (tensor(0.5099), 'Apt Pupil (1998)', 4.1),\n",
              " (tensor(0.5034), 'As Good As It Gets (1997)', 4.196428571428571),\n",
              " (tensor(0.4820), 'Casablanca (1942)', 4.45679012345679),\n",
              " (tensor(0.4773), 'Godfather, The (1972)', 4.283292978208232),\n",
              " (tensor(0.4772), \"One Flew Over the Cuckoo's Nest (1975)\", 4.291666666666667),\n",
              " (tensor(0.4697), 'Boot, Das (1981)', 4.203980099502488),\n",
              " (tensor(0.4653), 'Contact (1997)', 3.8035363457760316)]"
            ]
          },
          "metadata": {
            "tags": []
          },
          "execution_count": 48
        }
      ]
    },
    {
      "cell_type": "code",
      "metadata": {
        "id": "THQdmnAKf26L",
        "colab_type": "code",
        "colab": {}
      },
      "source": [
        "movie_w = learn.weight(top_movies,is_item=True)"
      ],
      "execution_count": 0,
      "outputs": []
    },
    {
      "cell_type": "code",
      "metadata": {
        "id": "4t8pqxp-f_Sq",
        "colab_type": "code",
        "colab": {
          "base_uri": "https://localhost:8080/",
          "height": 34
        },
        "outputId": "1b0895b0-8096-47f4-aa9a-572ede18da66"
      },
      "source": [
        "movie_w.shape"
      ],
      "execution_count": 50,
      "outputs": [
        {
          "output_type": "execute_result",
          "data": {
            "text/plain": [
              "torch.Size([1000, 40])"
            ]
          },
          "metadata": {
            "tags": []
          },
          "execution_count": 50
        }
      ]
    },
    {
      "cell_type": "code",
      "metadata": {
        "id": "vFuJLB_cgA7D",
        "colab_type": "code",
        "colab": {
          "base_uri": "https://localhost:8080/",
          "height": 34
        },
        "outputId": "bdeb6639-6872-4713-aeb8-d973d99ff394"
      },
      "source": [
        "movie_pca = movie_w.pca(3)\n",
        "movie_pca.shape"
      ],
      "execution_count": 51,
      "outputs": [
        {
          "output_type": "execute_result",
          "data": {
            "text/plain": [
              "torch.Size([1000, 3])"
            ]
          },
          "metadata": {
            "tags": []
          },
          "execution_count": 51
        }
      ]
    },
    {
      "cell_type": "code",
      "metadata": {
        "id": "ekWvAIX9gGtU",
        "colab_type": "code",
        "colab": {}
      },
      "source": [
        "fac0,fac1,fac2 = movie_pca.t()\n",
        "movie_camp = [(f,i) for f,i in zip(fac0,top_movies)]"
      ],
      "execution_count": 0,
      "outputs": []
    },
    {
      "cell_type": "code",
      "metadata": {
        "id": "14aYpTb-gSYe",
        "colab_type": "code",
        "colab": {
          "base_uri": "https://localhost:8080/",
          "height": 187
        },
        "outputId": "877bd110-b186-4586-ec36-a55390251797"
      },
      "source": [
        "sorted(movie_camp,key=itemgetter(0),reverse=True)[:10]"
      ],
      "execution_count": 54,
      "outputs": [
        {
          "output_type": "execute_result",
          "data": {
            "text/plain": [
              "[(tensor(1.3725), \"McHale's Navy (1997)\"),\n",
              " (tensor(1.3212), 'Children of the Corn: The Gathering (1996)'),\n",
              " (tensor(1.2841), 'Home Alone 3 (1997)'),\n",
              " (tensor(1.2428), 'Jungle2Jungle (1997)'),\n",
              " (tensor(1.1749), 'D3: The Mighty Ducks (1996)'),\n",
              " (tensor(1.1705), 'Leave It to Beaver (1997)'),\n",
              " (tensor(1.1593), 'Bio-Dome (1996)'),\n",
              " (tensor(1.1377), 'Congo (1995)'),\n",
              " (tensor(1.1274), 'Free Willy 3: The Rescue (1997)'),\n",
              " (tensor(1.1011), 'Mortal Kombat: Annihilation (1997)')]"
            ]
          },
          "metadata": {
            "tags": []
          },
          "execution_count": 54
        }
      ]
    },
    {
      "cell_type": "code",
      "metadata": {
        "id": "OTkFsDz1gZcg",
        "colab_type": "code",
        "colab": {
          "base_uri": "https://localhost:8080/",
          "height": 187
        },
        "outputId": "377db2c9-dc1f-4b2d-d85b-f4346aa51f59"
      },
      "source": [
        "sorted(movie_camp,key=itemgetter(0))[:10]"
      ],
      "execution_count": 55,
      "outputs": [
        {
          "output_type": "execute_result",
          "data": {
            "text/plain": [
              "[(tensor(-1.4961), 'Close Shave, A (1995)'),\n",
              " (tensor(-1.4613), 'Wrong Trousers, The (1993)'),\n",
              " (tensor(-1.4556), 'Casablanca (1942)'),\n",
              " (tensor(-1.2574), 'Godfather, The (1972)'),\n",
              " (tensor(-1.2426), 'Usual Suspects, The (1995)'),\n",
              " (tensor(-1.2320), 'Chinatown (1974)'),\n",
              " (tensor(-1.2061), 'Rear Window (1954)'),\n",
              " (tensor(-1.2025), 'North by Northwest (1959)'),\n",
              " (tensor(-1.1896), \"Schindler's List (1993)\"),\n",
              " (tensor(-1.1894), 'Citizen Kane (1941)')]"
            ]
          },
          "metadata": {
            "tags": []
          },
          "execution_count": 55
        }
      ]
    },
    {
      "cell_type": "code",
      "metadata": {
        "id": "lWMOX7qyghtE",
        "colab_type": "code",
        "colab": {}
      },
      "source": [
        "movie_comp = [(f,i) for f,i in zip(fac1,top_movies)]"
      ],
      "execution_count": 0,
      "outputs": []
    },
    {
      "cell_type": "code",
      "metadata": {
        "id": "DNSgCil0gqNs",
        "colab_type": "code",
        "colab": {
          "base_uri": "https://localhost:8080/",
          "height": 187
        },
        "outputId": "9e42341e-4a96-46f0-d5f1-b77217c3d79e"
      },
      "source": [
        "sorted(movie_comp,key=itemgetter(0),reverse=True)[:10]"
      ],
      "execution_count": 57,
      "outputs": [
        {
          "output_type": "execute_result",
          "data": {
            "text/plain": [
              "[(tensor(1.3421), 'Raiders of the Lost Ark (1981)'),\n",
              " (tensor(1.3048), 'Braveheart (1995)'),\n",
              " (tensor(1.2275), 'Titanic (1997)'),\n",
              " (tensor(1.0924), 'Star Wars (1977)'),\n",
              " (tensor(0.9867), \"Schindler's List (1993)\"),\n",
              " (tensor(0.9679), \"It's a Wonderful Life (1946)\"),\n",
              " (tensor(0.9670), 'Independence Day (ID4) (1996)'),\n",
              " (tensor(0.9657), 'Return of the Jedi (1983)'),\n",
              " (tensor(0.9655), 'Forrest Gump (1994)'),\n",
              " (tensor(0.9554), 'Indiana Jones and the Last Crusade (1989)')]"
            ]
          },
          "metadata": {
            "tags": []
          },
          "execution_count": 57
        }
      ]
    },
    {
      "cell_type": "code",
      "metadata": {
        "id": "UKgXSlBPgvSF",
        "colab_type": "code",
        "colab": {
          "base_uri": "https://localhost:8080/",
          "height": 187
        },
        "outputId": "4d99434b-75c0-49fd-b096-2f6f621d92fe"
      },
      "source": [
        "sorted(movie_comp,key=itemgetter(0))[:10]"
      ],
      "execution_count": 58,
      "outputs": [
        {
          "output_type": "execute_result",
          "data": {
            "text/plain": [
              "[(tensor(-0.9195), 'Trainspotting (1996)'),\n",
              " (tensor(-0.9098), 'Ready to Wear (Pret-A-Porter) (1994)'),\n",
              " (tensor(-0.8790), 'Clockwork Orange, A (1971)'),\n",
              " (tensor(-0.8705), 'Nosferatu (Nosferatu, eine Symphonie des Grauens) (1922)'),\n",
              " (tensor(-0.8072), 'Crumb (1994)'),\n",
              " (tensor(-0.7763), 'Serial Mom (1994)'),\n",
              " (tensor(-0.7671), 'Stuart Saves His Family (1995)'),\n",
              " (tensor(-0.7524), 'Keys to Tulsa (1997)'),\n",
              " (tensor(-0.7390), 'Brazil (1985)'),\n",
              " (tensor(-0.7378), 'Sweet Hereafter, The (1997)')]"
            ]
          },
          "metadata": {
            "tags": []
          },
          "execution_count": 58
        }
      ]
    },
    {
      "cell_type": "code",
      "metadata": {
        "id": "gZchC80cg0NK",
        "colab_type": "code",
        "colab": {
          "base_uri": "https://localhost:8080/",
          "height": 863
        },
        "outputId": "2e4e4cfd-378c-4f57-e494-892b4eb24660"
      },
      "source": [
        "idxs = np.random.choice(len(top_movies),50,replace=False)\n",
        "idxs = list(range(50))\n",
        "X = fac0[idxs]\n",
        "Y = fac2[idxs]\n",
        "plt.figure(figsize=(15,15))\n",
        "plt.scatter(X,Y)\n",
        "for i,x,y in zip(top_movies[idxs],X,Y):\n",
        "  plt.text(x,y,i,color=np.random.rand(3)*0.7,fontsize=11)\n",
        "plt.show()"
      ],
      "execution_count": 59,
      "outputs": [
        {
          "output_type": "display_data",
          "data": {
            "image/png": "[encoded data removed]",
            "text/plain": [
              "<Figure size 1080x1080 with 1 Axes>"
            ]
          },
          "metadata": {
            "tags": []
          }
        }
      ]
    },
    {
      "cell_type": "code",
      "metadata": {
        "id": "METtdr33hRiI",
        "colab_type": "code",
        "colab": {}
      },
      "source": [
        ""
      ],
      "execution_count": 0,
      "outputs": []
    }
  ]
}