{
  "nbformat": 4,
  "nbformat_minor": 0,
  "metadata": {
    "colab": {
      "name": "lession_4_1.ipynb",
      "provenance": [],
      "authorship_tag": "ABX9TyOxGZjt0Hj8mIDf6hEvUdOf",
      "include_colab_link": true
    },
    "kernelspec": {
      "name": "python3",
      "display_name": "Python 3"
    },
    "accelerator": "GPU"
  },
  "cells": [
    {
      "cell_type": "markdown",
      "metadata": {
        "id": "view-in-github",
        "colab_type": "text"
      },
      "source": [
        "<a href=\"https://colab.research.google.com/github/tlkt/fast_lesson_work/blob/master/lession_4_1.ipynb\" target=\"_parent\"><img src=\"https://colab.research.google.com/assets/colab-badge.svg\" alt=\"Open In Colab\"/></a>"
      ]
    },
    {
      "cell_type": "code",
      "metadata": {
        "id": "vdQOwcVCZPcv",
        "colab_type": "code",
        "colab": {}
      },
      "source": [
        "%reload_ext autoreload\n",
        "%autoreload 2\n",
        "%matplotlib inline"
      ],
      "execution_count": 0,
      "outputs": []
    },
    {
      "cell_type": "code",
      "metadata": {
        "id": "PTNNB9kcdOtT",
        "colab_type": "code",
        "colab": {}
      },
      "source": [
        ""
      ],
      "execution_count": 0,
      "outputs": []
    },
    {
      "cell_type": "code",
      "metadata": {
        "id": "IHZiAVMgdQ-m",
        "colab_type": "code",
        "colab": {
          "base_uri": "https://localhost:8080/",
          "height": 34
        },
        "outputId": "7c5cf1b6-68bc-4069-d0c1-b2e676e302e8"
      },
      "source": [
        "from google.colab import drive\n",
        "drive.mount('/content/drive')"
      ],
      "execution_count": 12,
      "outputs": [
        {
          "output_type": "stream",
          "text": [
            "Mounted at /content/drive\n"
          ],
          "name": "stdout"
        }
      ]
    },
    {
      "cell_type": "code",
      "metadata": {
        "id": "Msc5DQizcJEM",
        "colab_type": "code",
        "colab": {}
      },
      "source": [
        "from fastai.text import *"
      ],
      "execution_count": 0,
      "outputs": []
    },
    {
      "cell_type": "code",
      "metadata": {
        "id": "Ab-8G_t-cMJb",
        "colab_type": "code",
        "colab": {
          "base_uri": "https://localhost:8080/",
          "height": 51
        },
        "outputId": "ce4b673a-5810-467f-d0ae-06a780b90dc0"
      },
      "source": [
        "path = untar_data(URLs.IMDB_SAMPLE)\n",
        "path.ls()"
      ],
      "execution_count": 14,
      "outputs": [
        {
          "output_type": "execute_result",
          "data": {
            "text/plain": [
              "[PosixPath('/root/.fastai/data/imdb_sample/data_save.pkl'),\n",
              " PosixPath('/root/.fastai/data/imdb_sample/texts.csv')]"
            ]
          },
          "metadata": {
            "tags": []
          },
          "execution_count": 14
        }
      ]
    },
    {
      "cell_type": "code",
      "metadata": {
        "id": "cG-nekNMcXf8",
        "colab_type": "code",
        "colab": {
          "base_uri": "https://localhost:8080/",
          "height": 204
        },
        "outputId": "3eabc949-7ded-4cf9-fff5-e7376dc825f1"
      },
      "source": [
        "df = pd.read_csv(path/'texts.csv')\n",
        "df.head()"
      ],
      "execution_count": 15,
      "outputs": [
        {
          "output_type": "execute_result",
          "data": {
            "text/html": [
              "<div>\n",
              "<style scoped>\n",
              "    .dataframe tbody tr th:only-of-type {\n",
              "        vertical-align: middle;\n",
              "    }\n",
              "\n",
              "    .dataframe tbody tr th {\n",
              "        vertical-align: top;\n",
              "    }\n",
              "\n",
              "    .dataframe thead th {\n",
              "        text-align: right;\n",
              "    }\n",
              "</style>\n",
              "<table border=\"1\" class=\"dataframe\">\n",
              "  <thead>\n",
              "    <tr style=\"text-align: right;\">\n",
              "      <th></th>\n",
              "      <th>label</th>\n",
              "      <th>text</th>\n",
              "      <th>is_valid</th>\n",
              "    </tr>\n",
              "  </thead>\n",
              "  <tbody>\n",
              "    <tr>\n",
              "      <th>0</th>\n",
              "      <td>negative</td>\n",
              "      <td>Un-bleeping-believable! Meg Ryan doesn't even ...</td>\n",
              "      <td>False</td>\n",
              "    </tr>\n",
              "    <tr>\n",
              "      <th>1</th>\n",
              "      <td>positive</td>\n",
              "      <td>This is a extremely well-made film. The acting...</td>\n",
              "      <td>False</td>\n",
              "    </tr>\n",
              "    <tr>\n",
              "      <th>2</th>\n",
              "      <td>negative</td>\n",
              "      <td>Every once in a long while a movie will come a...</td>\n",
              "      <td>False</td>\n",
              "    </tr>\n",
              "    <tr>\n",
              "      <th>3</th>\n",
              "      <td>positive</td>\n",
              "      <td>Name just says it all. I watched this movie wi...</td>\n",
              "      <td>False</td>\n",
              "    </tr>\n",
              "    <tr>\n",
              "      <th>4</th>\n",
              "      <td>negative</td>\n",
              "      <td>This movie succeeds at being one of the most u...</td>\n",
              "      <td>False</td>\n",
              "    </tr>\n",
              "  </tbody>\n",
              "</table>\n",
              "</div>"
            ],
            "text/plain": [
              "      label                                               text  is_valid\n",
              "0  negative  Un-bleeping-believable! Meg Ryan doesn't even ...     False\n",
              "1  positive  This is a extremely well-made film. The acting...     False\n",
              "2  negative  Every once in a long while a movie will come a...     False\n",
              "3  positive  Name just says it all. I watched this movie wi...     False\n",
              "4  negative  This movie succeeds at being one of the most u...     False"
            ]
          },
          "metadata": {
            "tags": []
          },
          "execution_count": 15
        }
      ]
    },
    {
      "cell_type": "code",
      "metadata": {
        "id": "Tzw8ip-qcerC",
        "colab_type": "code",
        "colab": {
          "base_uri": "https://localhost:8080/",
          "height": 54
        },
        "outputId": "e0ce058b-1c88-4f18-a6c1-ae7fbcba9675"
      },
      "source": [
        "df['text'][1]"
      ],
      "execution_count": 16,
      "outputs": [
        {
          "output_type": "execute_result",
          "data": {
            "text/plain": [
              "'This is a extremely well-made film. The acting, script and camera-work are all first-rate. The music is good, too, though it is mostly early in the film, when things are still relatively cheery. There are no really superstars in the cast, though several faces will be familiar. The entire cast does an excellent job with the script.<br /><br />But it is hard to watch, because there is no good end to a situation like the one presented. It is now fashionable to blame the British for setting Hindus and Muslims against each other, and then cruelly separating them into two countries. There is some merit in this view, but it\\'s also true that no one forced Hindus and Muslims in the region to mistreat each other as they did around the time of partition. It seems more likely that the British simply saw the tensions between the religions and were clever enough to exploit them to their own ends.<br /><br />The result is that there is much cruelty and inhumanity in the situation and this is very unpleasant to remember and to see on the screen. But it is never painted as a black-and-white case. There is baseness and nobility on both sides, and also the hope for change in the younger generation.<br /><br />There is redemption of a sort, in the end, when Puro has to make a hard choice between a man who has ruined her life, but also truly loved her, and her family which has disowned her, then later come looking for her. But by that point, she has no option that is without great pain for her.<br /><br />This film carries the message that both Muslims and Hindus have their grave faults, and also that both can be dignified and caring people. The reality of partition makes that realisation all the more wrenching, since there can never be real reconciliation across the India/Pakistan border. In that sense, it is similar to \"Mr & Mrs Iyer\".<br /><br />In the end, we were glad to have seen the film, even though the resolution was heartbreaking. If the UK and US could deal with their own histories of racism with this kind of frankness, they would certainly be better off.'"
            ]
          },
          "metadata": {
            "tags": []
          },
          "execution_count": 16
        }
      ]
    },
    {
      "cell_type": "code",
      "metadata": {
        "id": "SZXKX084chkI",
        "colab_type": "code",
        "colab": {
          "base_uri": "https://localhost:8080/",
          "height": 17
        },
        "outputId": "ac647c19-89ff-48ac-ce0c-17c7414ea06d"
      },
      "source": [
        "data_lm = TextDataBunch.from_csv(path,'texts.csv')"
      ],
      "execution_count": 17,
      "outputs": [
        {
          "output_type": "display_data",
          "data": {
            "text/html": [
              ""
            ],
            "text/plain": [
              "<IPython.core.display.HTML object>"
            ]
          },
          "metadata": {
            "tags": []
          }
        },
        {
          "output_type": "display_data",
          "data": {
            "text/html": [
              ""
            ],
            "text/plain": [
              "<IPython.core.display.HTML object>"
            ]
          },
          "metadata": {
            "tags": []
          }
        }
      ]
    },
    {
      "cell_type": "code",
      "metadata": {
        "id": "SMDjHd9Acsfj",
        "colab_type": "code",
        "colab": {}
      },
      "source": [
        "data_lm.save()"
      ],
      "execution_count": 0,
      "outputs": []
    },
    {
      "cell_type": "code",
      "metadata": {
        "id": "SGeQnJcecuXu",
        "colab_type": "code",
        "colab": {
          "base_uri": "https://localhost:8080/",
          "height": 287
        },
        "outputId": "e63ad651-0fa3-4c1f-d5e6-cec727a8f296"
      },
      "source": [
        "data = TextClasDataBunch.load(path)"
      ],
      "execution_count": 19,
      "outputs": [
        {
          "output_type": "error",
          "ename": "FileNotFoundError",
          "evalue": "ignored",
          "traceback": [
            "\u001b[0;31m---------------------------------------------------------------------------\u001b[0m",
            "\u001b[0;31mFileNotFoundError\u001b[0m                         Traceback (most recent call last)",
            "\u001b[0;32m<ipython-input-19-0191842cdf08>\u001b[0m in \u001b[0;36m<module>\u001b[0;34m()\u001b[0m\n\u001b[0;32m----> 1\u001b[0;31m \u001b[0mdata\u001b[0m \u001b[0;34m=\u001b[0m \u001b[0mTextClasDataBunch\u001b[0m\u001b[0;34m.\u001b[0m\u001b[0mload\u001b[0m\u001b[0;34m(\u001b[0m\u001b[0mpath\u001b[0m\u001b[0;34m)\u001b[0m\u001b[0;34m\u001b[0m\u001b[0;34m\u001b[0m\u001b[0m\n\u001b[0m",
            "\u001b[0;32m/usr/local/lib/python3.6/dist-packages/fastai/text/data.py\u001b[0m in \u001b[0;36mload\u001b[0;34m(cls, path, cache_name, processor, **kwargs)\u001b[0m\n\u001b[1;32m    168\u001b[0m                 Use `load_data` for data saved with v1.0.44 or later.\"\"\", DeprecationWarning)\n\u001b[1;32m    169\u001b[0m         \u001b[0mcache_path\u001b[0m \u001b[0;34m=\u001b[0m \u001b[0mPath\u001b[0m\u001b[0;34m(\u001b[0m\u001b[0mpath\u001b[0m\u001b[0;34m)\u001b[0m\u001b[0;34m/\u001b[0m\u001b[0mcache_name\u001b[0m\u001b[0;34m\u001b[0m\u001b[0;34m\u001b[0m\u001b[0m\n\u001b[0;32m--> 170\u001b[0;31m         \u001b[0mvocab\u001b[0m \u001b[0;34m=\u001b[0m \u001b[0mVocab\u001b[0m\u001b[0;34m(\u001b[0m\u001b[0mpickle\u001b[0m\u001b[0;34m.\u001b[0m\u001b[0mload\u001b[0m\u001b[0;34m(\u001b[0m\u001b[0mopen\u001b[0m\u001b[0;34m(\u001b[0m\u001b[0mcache_path\u001b[0m\u001b[0;34m/\u001b[0m\u001b[0;34m'itos.pkl'\u001b[0m\u001b[0;34m,\u001b[0m\u001b[0;34m'rb'\u001b[0m\u001b[0;34m)\u001b[0m\u001b[0;34m)\u001b[0m\u001b[0;34m)\u001b[0m\u001b[0;34m\u001b[0m\u001b[0;34m\u001b[0m\u001b[0m\n\u001b[0m\u001b[1;32m    171\u001b[0m         \u001b[0mtrain_ids\u001b[0m\u001b[0;34m,\u001b[0m\u001b[0mtrain_lbls\u001b[0m \u001b[0;34m=\u001b[0m \u001b[0mnp\u001b[0m\u001b[0;34m.\u001b[0m\u001b[0mload\u001b[0m\u001b[0;34m(\u001b[0m\u001b[0mcache_path\u001b[0m\u001b[0;34m/\u001b[0m\u001b[0;34mf'train_ids.npy'\u001b[0m\u001b[0;34m)\u001b[0m\u001b[0;34m,\u001b[0m \u001b[0mnp\u001b[0m\u001b[0;34m.\u001b[0m\u001b[0mload\u001b[0m\u001b[0;34m(\u001b[0m\u001b[0mcache_path\u001b[0m\u001b[0;34m/\u001b[0m\u001b[0;34mf'train_lbl.npy'\u001b[0m\u001b[0;34m)\u001b[0m\u001b[0;34m\u001b[0m\u001b[0;34m\u001b[0m\u001b[0m\n\u001b[1;32m    172\u001b[0m         \u001b[0mvalid_ids\u001b[0m\u001b[0;34m,\u001b[0m\u001b[0mvalid_lbls\u001b[0m \u001b[0;34m=\u001b[0m \u001b[0mnp\u001b[0m\u001b[0;34m.\u001b[0m\u001b[0mload\u001b[0m\u001b[0;34m(\u001b[0m\u001b[0mcache_path\u001b[0m\u001b[0;34m/\u001b[0m\u001b[0;34mf'valid_ids.npy'\u001b[0m\u001b[0;34m)\u001b[0m\u001b[0;34m,\u001b[0m \u001b[0mnp\u001b[0m\u001b[0;34m.\u001b[0m\u001b[0mload\u001b[0m\u001b[0;34m(\u001b[0m\u001b[0mcache_path\u001b[0m\u001b[0;34m/\u001b[0m\u001b[0;34mf'valid_lbl.npy'\u001b[0m\u001b[0;34m)\u001b[0m\u001b[0;34m\u001b[0m\u001b[0;34m\u001b[0m\u001b[0m\n",
            "\u001b[0;31mFileNotFoundError\u001b[0m: [Errno 2] No such file or directory: '/root/.fastai/data/imdb_sample/tmp/itos.pkl'"
          ]
        }
      ]
    },
    {
      "cell_type": "code",
      "metadata": {
        "id": "rNkdKnx2c0BE",
        "colab_type": "code",
        "colab": {
          "base_uri": "https://localhost:8080/",
          "height": 289
        },
        "outputId": "d3dd5282-b3c6-4549-a408-d90600a263ab"
      },
      "source": [
        "data_lm.show_batch()"
      ],
      "execution_count": 20,
      "outputs": [
        {
          "output_type": "display_data",
          "data": {
            "text/html": [
              "<table border=\"1\" class=\"dataframe\">\n",
              "  <thead>\n",
              "    <tr style=\"text-align: right;\">\n",
              "      <th>text</th>\n",
              "      <th>target</th>\n",
              "    </tr>\n",
              "  </thead>\n",
              "  <tbody>\n",
              "    <tr>\n",
              "      <td>xxbos xxup the xxup shop xxup around xxup the xxup corner is one of the sweetest and most feel - good romantic comedies ever made . xxmaj there 's just no getting around that , and it 's hard to actually put one 's feeling for this film into words . xxmaj it 's not one of those films that tries too hard , nor does it come up with</td>\n",
              "      <td>positive</td>\n",
              "    </tr>\n",
              "    <tr>\n",
              "      <td>xxbos xxmaj this film sat on my xxmaj tivo for weeks before i watched it . i dreaded a self - indulgent xxunk flick about relationships gone bad . i was wrong ; this was an xxunk xxunk into the xxunk - up xxunk of xxmaj new xxmaj yorkers . \\n \\n  xxmaj the format is the same as xxmaj max xxmaj xxunk ' \" xxmaj la xxmaj ronde</td>\n",
              "      <td>positive</td>\n",
              "    </tr>\n",
              "    <tr>\n",
              "      <td>xxbos xxmaj many neglect that this is n't just a classic due to the fact that it 's the first xxup 3d game , or even the first xxunk - up . xxmaj it 's also one of the first stealth games , one of the xxunk definitely the first ) truly claustrophobic games , and just a pretty well - rounded gaming experience in general . xxmaj with graphics</td>\n",
              "      <td>positive</td>\n",
              "    </tr>\n",
              "    <tr>\n",
              "      <td>xxbos i really wanted to love this show . i truly , honestly did . \\n \\n  xxmaj for the first time , gay viewers get their own version of the \" xxmaj the xxmaj bachelor \" . xxmaj with the help of his obligatory \" hag \" xxmaj xxunk , xxmaj james , a good looking , well - to - do thirty - something has the chance</td>\n",
              "      <td>negative</td>\n",
              "    </tr>\n",
              "    <tr>\n",
              "      <td>xxbos \\n \\n  i 'm sure things did n't exactly go the same way in the real life of xxmaj homer xxmaj hickam as they did in the film adaptation of his book , xxmaj rocket xxmaj boys , but the movie \" xxmaj october xxmaj sky \" ( an xxunk of the book 's title ) is good enough to stand alone . i have not read xxmaj</td>\n",
              "      <td>positive</td>\n",
              "    </tr>\n",
              "  </tbody>\n",
              "</table>"
            ],
            "text/plain": [
              "<IPython.core.display.HTML object>"
            ]
          },
          "metadata": {
            "tags": []
          }
        }
      ]
    },
    {
      "cell_type": "code",
      "metadata": {
        "id": "jeVGWiOSc_L1",
        "colab_type": "code",
        "colab": {
          "base_uri": "https://localhost:8080/",
          "height": 187
        },
        "outputId": "6905750b-0df3-4752-b91a-831ca6d04933"
      },
      "source": [
        "data_lm.vocab.itos[:10]"
      ],
      "execution_count": 22,
      "outputs": [
        {
          "output_type": "execute_result",
          "data": {
            "text/plain": [
              "['xxunk',\n",
              " 'xxpad',\n",
              " 'xxbos',\n",
              " 'xxeos',\n",
              " 'xxfld',\n",
              " 'xxmaj',\n",
              " 'xxup',\n",
              " 'xxrep',\n",
              " 'xxwrep',\n",
              " 'the']"
            ]
          },
          "metadata": {
            "tags": []
          },
          "execution_count": 22
        }
      ]
    },
    {
      "cell_type": "code",
      "metadata": {
        "id": "PT2S2G9kd-zF",
        "colab_type": "code",
        "colab": {
          "base_uri": "https://localhost:8080/",
          "height": 224
        },
        "outputId": "ad339ac0-8569-4cbb-c077-7edbc9897fdd"
      },
      "source": [
        "data_lm.train_ds[0][0]"
      ],
      "execution_count": 23,
      "outputs": [
        {
          "output_type": "execute_result",
          "data": {
            "text/plain": [
              "Text xxbos xxmaj riding xxmaj giants is a brilliant documentary that xxunk deep into the world of one of the most under - appreciated sports and brings to the surface a very human and raw emotion that only director xxmaj stacy xxmaj peralta could capture . xxmaj everything from the structure , to the players , to the amazing stock footage , to even the style in which this was filmed only xxunk the beauty and power behind the sport of surfing . xxmaj of all the surfing films that i have seen ( xxmaj endless xxmaj summer , xxmaj xxunk xxmaj xxunk , and xxmaj step xxmaj into xxmaj liquid ) this was the most consistent and relevant . xxmaj beginning with the early ages of surfing ( a brief history lesson ) lasting all the way till xxmaj laird 's infamous ride , xxmaj riding xxmaj giants goes further into the mind , heart , and soul of the sport than any of these other documentaries . xxmaj how does it do this ? xxmaj by giving us the whole story , from start to finish , without xxunk or xxunk xxunk from wave to wave . \n",
              " \n",
              "  xxmaj to begin this film was structurally sound . xxmaj in the other films that i have seen about surfing , you sometimes find yourself jumping from new person to new person , wave to wave , event to event , without any knowledge of why or who ? xxmaj in xxmaj riding xxmaj giants , we have a very small cast of veterans and xxunk . xxmaj this allows you to really go deeper into the mind of each one . xxmaj also , instead of just riding waves , we are handed more history and more personal insight to the world than before . xxmaj this is what really attracted me to this film . i was impressed that instead of showing all these big waves ( because it is a big wave movie ) , we listen to stories and see first hand what these surfers had to overcome to get to those waves . i loved the information about the \" beach xxunk \" or father 's of surfing . i am still floored by the amazing tales of xxmaj greg xxmaj noll and his early adventures into the harsh deep blue . xxmaj then , to see him in person , talking about what was going on in his mind , only added more xxunk to the fire . xxmaj the xxunk structure that xxmaj peralta followed allowed me to follow and walk away with more knowledge of the sport than with any of the earlier films . xxmaj peralta shows so much emotion and passion that you can not help but be amazed by what these brave people have done , and where the sport is going . \n",
              " \n",
              "  xxmaj add to a immaculate structure some intense and creative cinematography , and you have darn near perfect film . xxmaj using techniques that i last saw in xxmaj the xxmaj kid xxmaj stays in the xxmaj picture , xxmaj riding xxmaj giants creates some scenes that almost feel as if they are jumping out of the screen . xxmaj while it is n't xxup 3d , it is that flat dimensional feeling that you get when you put two pictures on top of each other . xxmaj in this film , it worked . xxmaj it created more depth to the scenes , and really added to not just the shock value ( man these waves were huge ) , but also the danger that these guys constantly faced . xxmaj if it broke differently or they xxunk wrong , these waves would kill them . xxmaj some did die , but it did n't stop the sport . xxmaj it only created more excitement and more passion to do better . xxmaj it is this love of the ocean and sport that leads me to my final point . \n",
              " \n",
              "  xxmaj the human element . xxmaj so many of my earlier adventures in the world of surfing documentaries left me with beautiful waves , but very little about the people . xxmaj the films knew that people were watching for the waves , so it would basically go from wave to wave to wave and the maybe a short second about the person . xxmaj this film was the direct opposite . xxmaj peralta created this masterpiece by still giving us the waves , but xxunk so much more attention onto the surfers and the xxunk question of why they do this everyday . xxmaj what rushes through their minds , what pushes them to go further , and the bonds that are formed while out there on the wild blue xxunk . i felt like after watching this film that i not only knew more about big wave surfing , but also about the emotional side to the sport . xxmaj this was an element not as developed in the other films and pushed xxmaj riding xxmaj giants to a whole new personal level . \n",
              " \n",
              "  xxmaj overall , this film was brilliant . xxmaj never have i witnessed so much passion , devotion , and love wrapped in a structurally sound film . xxmaj from beginning to end , i was impressed . i would be very happy if this film won the xxmaj oscar this year for xxmaj best xxmaj documentary , and to see a new xxunk in the surfing world and open more doors for films of this nature . \n",
              " \n",
              "  xxmaj grade : xxrep 5 * out of xxrep 5 *"
            ]
          },
          "metadata": {
            "tags": []
          },
          "execution_count": 23
        }
      ]
    },
    {
      "cell_type": "code",
      "metadata": {
        "id": "RZVS_-VgeGDq",
        "colab_type": "code",
        "colab": {
          "base_uri": "https://localhost:8080/",
          "height": 34
        },
        "outputId": "df6e35ac-20e8-4c13-859e-37613dc7a0d9"
      },
      "source": [
        "data_lm.train_ds[0][0].data[:10]"
      ],
      "execution_count": 24,
      "outputs": [
        {
          "output_type": "execute_result",
          "data": {
            "text/plain": [
              "array([   2,    5, 1369,    5, 2435,   16,   13,  629,  460,   20])"
            ]
          },
          "metadata": {
            "tags": []
          },
          "execution_count": 24
        }
      ]
    },
    {
      "cell_type": "code",
      "metadata": {
        "id": "QZ0p3WwPeLBJ",
        "colab_type": "code",
        "colab": {
          "base_uri": "https://localhost:8080/",
          "height": 17
        },
        "outputId": "4733e631-25a3-475c-87b3-3e2d2d1ef687"
      },
      "source": [
        "data = (TextList.from_csv(path,'texts.csv',cols='text')\n",
        "        .split_from_df(col=2)\n",
        "        .label_from_df(cols=0)\n",
        "        .databunch())"
      ],
      "execution_count": 25,
      "outputs": [
        {
          "output_type": "display_data",
          "data": {
            "text/html": [
              ""
            ],
            "text/plain": [
              "<IPython.core.display.HTML object>"
            ]
          },
          "metadata": {
            "tags": []
          }
        },
        {
          "output_type": "display_data",
          "data": {
            "text/html": [
              ""
            ],
            "text/plain": [
              "<IPython.core.display.HTML object>"
            ]
          },
          "metadata": {
            "tags": []
          }
        }
      ]
    },
    {
      "cell_type": "code",
      "metadata": {
        "id": "4SebBzTYeihN",
        "colab_type": "code",
        "colab": {}
      },
      "source": [
        "path = untar_data(URLs.IMDB)"
      ],
      "execution_count": 0,
      "outputs": []
    },
    {
      "cell_type": "code",
      "metadata": {
        "id": "keC50BUwerlk",
        "colab_type": "code",
        "colab": {
          "base_uri": "https://localhost:8080/",
          "height": 85
        },
        "outputId": "847c8f95-6c58-4af3-928b-63ef524c9eb3"
      },
      "source": [
        "(path/'train').ls()"
      ],
      "execution_count": 29,
      "outputs": [
        {
          "output_type": "execute_result",
          "data": {
            "text/plain": [
              "[PosixPath('/root/.fastai/data/imdb/train/neg'),\n",
              " PosixPath('/root/.fastai/data/imdb/train/labeledBow.feat'),\n",
              " PosixPath('/root/.fastai/data/imdb/train/pos'),\n",
              " PosixPath('/root/.fastai/data/imdb/train/unsupBow.feat')]"
            ]
          },
          "metadata": {
            "tags": []
          },
          "execution_count": 29
        }
      ]
    },
    {
      "cell_type": "code",
      "metadata": {
        "id": "qvD_VLuYezir",
        "colab_type": "code",
        "colab": {}
      },
      "source": [
        "bs=48"
      ],
      "execution_count": 0,
      "outputs": []
    },
    {
      "cell_type": "code",
      "metadata": {
        "id": "ci-kWKQZfBoq",
        "colab_type": "code",
        "colab": {
          "base_uri": "https://localhost:8080/",
          "height": 17
        },
        "outputId": "4e3d7b5c-8252-4857-ac5d-897748dd2f89"
      },
      "source": [
        "data_lm = (TextList.from_folder(path)\n",
        "            .filter_by_folder(include=['train','test','unsup'])\n",
        "            .split_by_rand_pct(0.1)\n",
        "            .label_for_lm()\n",
        "            .databunch(bs=bs))\n"
      ],
      "execution_count": 31,
      "outputs": [
        {
          "output_type": "display_data",
          "data": {
            "text/html": [
              ""
            ],
            "text/plain": [
              "<IPython.core.display.HTML object>"
            ]
          },
          "metadata": {
            "tags": []
          }
        },
        {
          "output_type": "display_data",
          "data": {
            "text/html": [
              ""
            ],
            "text/plain": [
              "<IPython.core.display.HTML object>"
            ]
          },
          "metadata": {
            "tags": []
          }
        }
      ]
    },
    {
      "cell_type": "code",
      "metadata": {
        "id": "sliKGyLUffsU",
        "colab_type": "code",
        "colab": {}
      },
      "source": [
        "data_lm.save('data_lm.pkl')"
      ],
      "execution_count": 0,
      "outputs": []
    },
    {
      "cell_type": "code",
      "metadata": {
        "id": "8nGXwPZTgM4f",
        "colab_type": "code",
        "colab": {}
      },
      "source": [
        "data_lm = load_data(path,'data_lm.pkl',bs=bs)"
      ],
      "execution_count": 0,
      "outputs": []
    },
    {
      "cell_type": "code",
      "metadata": {
        "id": "lfhc_FtUgeSn",
        "colab_type": "code",
        "colab": {
          "base_uri": "https://localhost:8080/",
          "height": 306
        },
        "outputId": "d0984015-9394-47e3-8af6-7168a99f2fe9"
      },
      "source": [
        "data_lm.show_batch()"
      ],
      "execution_count": 35,
      "outputs": [
        {
          "output_type": "display_data",
          "data": {
            "text/html": [
              "<table border=\"1\" class=\"dataframe\">\n",
              "  <thead>\n",
              "    <tr style=\"text-align: right;\">\n",
              "      <th>idx</th>\n",
              "      <th>text</th>\n",
              "    </tr>\n",
              "  </thead>\n",
              "  <tbody>\n",
              "    <tr>\n",
              "      <td>0</td>\n",
              "      <td>piece of crap stayed on xxup tv this long ? xxmaj it 's terrible . xxmaj it makes me want to shoot someone . xxmaj it 's so fake that it is actually worse than a 1940s sci - fi movie . i 'd rather have a stroke than watch this nonsense . i remember watching it when it first came out . i thought , hey this could be</td>\n",
              "    </tr>\n",
              "    <tr>\n",
              "      <td>1</td>\n",
              "      <td>xxmaj lewis is still alive . xxup damn xxup you xxup lewis ! ! ! xxmaj damn you back to the pits of despair you came from ! ! ! xxmaj and as you 're on your way down , do n't hang onto me for support , because i 'm not giving any ! xxmaj lewis does n't deserve it ! ! xxmaj this movie does n't deserve it</td>\n",
              "    </tr>\n",
              "    <tr>\n",
              "      <td>2</td>\n",
              "      <td>xxmaj space ' that keep you watching in awed fascination just to see what new depths it can plumb , this movie is just common or garden bad ; bad with no distinguishing features . xxbos this sequel is nowhere near as good as the xxunk is lots of blood in this one , courtesy of the fight scenes . xxunk is a good xxunk fight scenes themselves are n't</td>\n",
              "    </tr>\n",
              "    <tr>\n",
              "      <td>3</td>\n",
              "      <td>and xxmaj billy xxmaj burke , who all inject a bit more life and background into the film . \\n \\n  xxmaj while the ride is comfortable for the most part , xxmaj fracture slips a gear towards the end ; the shift from murder mystery to moral crusade feels a little bumpy , but nonetheless , strong performances and great artistic direction make xxmaj fracture a stylish ,</td>\n",
              "    </tr>\n",
              "    <tr>\n",
              "      <td>4</td>\n",
              "      <td>found that the film 's language was a lot stronger than i thought it would be and the sex scenes were quite ... detailed . \\n \\n  xxmaj on the whole i did n't enjoy this film - the storyline 's fault . xxbos xxmaj wow ! xxmaj this film is the kind of movie that brings tears to your eyes and warmth to your heart . xxmaj everyone</td>\n",
              "    </tr>\n",
              "  </tbody>\n",
              "</table>"
            ],
            "text/plain": [
              "<IPython.core.display.HTML object>"
            ]
          },
          "metadata": {
            "tags": []
          }
        }
      ]
    },
    {
      "cell_type": "code",
      "metadata": {
        "id": "JbF0rJxAghM4",
        "colab_type": "code",
        "colab": {
          "base_uri": "https://localhost:8080/",
          "height": 34
        },
        "outputId": "b8996190-29bc-47c6-f7d2-9e71425f59e3"
      },
      "source": [
        "learn = language_model_learner(data_lm,AWD_LSTM,drop_mult=0.3)"
      ],
      "execution_count": 38,
      "outputs": [
        {
          "output_type": "stream",
          "text": [
            "Downloading https://s3.amazonaws.com/fast-ai-modelzoo/wt103-fwd\n"
          ],
          "name": "stdout"
        },
        {
          "output_type": "display_data",
          "data": {
            "text/html": [
              ""
            ],
            "text/plain": [
              "<IPython.core.display.HTML object>"
            ]
          },
          "metadata": {
            "tags": []
          }
        }
      ]
    },
    {
      "cell_type": "code",
      "metadata": {
        "id": "ADVSs-NZg2pn",
        "colab_type": "code",
        "colab": {
          "base_uri": "https://localhost:8080/",
          "height": 112
        },
        "outputId": "ecdf071e-a6eb-4f9a-b788-dd3c0206914a"
      },
      "source": [
        "learn.lr_find()"
      ],
      "execution_count": 39,
      "outputs": [
        {
          "output_type": "display_data",
          "data": {
            "text/html": [
              "\n",
              "    <div>\n",
              "        <style>\n",
              "            /* Turns off some styling */\n",
              "            progress {\n",
              "                /* gets rid of default border in Firefox and Opera. */\n",
              "                border: none;\n",
              "                /* Needs to be in here for Safari polyfill so background images work as expected. */\n",
              "                background-size: auto;\n",
              "            }\n",
              "            .progress-bar-interrupted, .progress-bar-interrupted::-webkit-progress-bar {\n",
              "                background: #F44336;\n",
              "            }\n",
              "        </style>\n",
              "      <progress value='0' class='' max='1', style='width:300px; height:20px; vertical-align: middle;'></progress>\n",
              "      0.00% [0/1 00:00<00:00]\n",
              "    </div>\n",
              "    \n",
              "<table border=\"1\" class=\"dataframe\">\n",
              "  <thead>\n",
              "    <tr style=\"text-align: left;\">\n",
              "      <th>epoch</th>\n",
              "      <th>train_loss</th>\n",
              "      <th>valid_loss</th>\n",
              "      <th>accuracy</th>\n",
              "      <th>time</th>\n",
              "    </tr>\n",
              "  </thead>\n",
              "  <tbody>\n",
              "  </tbody>\n",
              "</table><p>\n",
              "\n",
              "    <div>\n",
              "        <style>\n",
              "            /* Turns off some styling */\n",
              "            progress {\n",
              "                /* gets rid of default border in Firefox and Opera. */\n",
              "                border: none;\n",
              "                /* Needs to be in here for Safari polyfill so background images work as expected. */\n",
              "                background-size: auto;\n",
              "            }\n",
              "            .progress-bar-interrupted, .progress-bar-interrupted::-webkit-progress-bar {\n",
              "                background: #F44336;\n",
              "            }\n",
              "        </style>\n",
              "      <progress value='99' class='' max='8049', style='width:300px; height:20px; vertical-align: middle;'></progress>\n",
              "      1.23% [99/8049 00:16<22:15 11.2089]\n",
              "    </div>\n",
              "    "
            ],
            "text/plain": [
              "<IPython.core.display.HTML object>"
            ]
          },
          "metadata": {
            "tags": []
          }
        },
        {
          "output_type": "stream",
          "text": [
            "LR Finder is complete, type {learner_name}.recorder.plot() to see the graph.\n"
          ],
          "name": "stdout"
        }
      ]
    },
    {
      "cell_type": "code",
      "metadata": {
        "id": "ZXKTrQEch9u5",
        "colab_type": "code",
        "colab": {
          "base_uri": "https://localhost:8080/",
          "height": 279
        },
        "outputId": "8e28a9fc-d53c-458b-f58f-d02025e13997"
      },
      "source": [
        "learn.recorder.plot()"
      ],
      "execution_count": 40,
      "outputs": [
        {
          "output_type": "display_data",
          "data": {
            "image/png": "[encoded data removed]",
            "text/plain": [
              "<Figure size 432x288 with 1 Axes>"
            ]
          },
          "metadata": {
            "tags": []
          }
        }
      ]
    },
    {
      "cell_type": "code",
      "metadata": {
        "id": "hu_1cUJaiKd_",
        "colab_type": "code",
        "colab": {
          "base_uri": "https://localhost:8080/",
          "height": 80
        },
        "outputId": "95d1b14f-5323-42ce-a1a7-a6f73e3afd1f"
      },
      "source": [
        "learn.fit_one_cycle(1,1e-2,moms=(0.8,0.7))"
      ],
      "execution_count": 41,
      "outputs": [
        {
          "output_type": "display_data",
          "data": {
            "text/html": [
              "<table border=\"1\" class=\"dataframe\">\n",
              "  <thead>\n",
              "    <tr style=\"text-align: left;\">\n",
              "      <th>epoch</th>\n",
              "      <th>train_loss</th>\n",
              "      <th>valid_loss</th>\n",
              "      <th>accuracy</th>\n",
              "      <th>time</th>\n",
              "    </tr>\n",
              "  </thead>\n",
              "  <tbody>\n",
              "    <tr>\n",
              "      <td>0</td>\n",
              "      <td>4.169304</td>\n",
              "      <td>4.019712</td>\n",
              "      <td>0.296014</td>\n",
              "      <td>23:29</td>\n",
              "    </tr>\n",
              "  </tbody>\n",
              "</table>"
            ],
            "text/plain": [
              "<IPython.core.display.HTML object>"
            ]
          },
          "metadata": {
            "tags": []
          }
        }
      ]
    },
    {
      "cell_type": "code",
      "metadata": {
        "id": "EWrhGxJWiTvz",
        "colab_type": "code",
        "colab": {}
      },
      "source": [
        "learn.save('fit_head')"
      ],
      "execution_count": 0,
      "outputs": []
    },
    {
      "cell_type": "code",
      "metadata": {
        "id": "r8Y10IU1s6Gg",
        "colab_type": "code",
        "colab": {
          "base_uri": "https://localhost:8080/",
          "height": 1000
        },
        "outputId": "93b245f9-0af0-43c7-c12c-b0ef5a04d552"
      },
      "source": [
        "learn.load('fit_head')"
      ],
      "execution_count": 43,
      "outputs": [
        {
          "output_type": "execute_result",
          "data": {
            "text/plain": [
              "LanguageLearner(data=TextLMDataBunch;\n",
              "\n",
              "Train: LabelList (90000 items)\n",
              "x: LMTextList\n",
              "xxbos i discovered this movie via my xxunk for xxmaj jerry xxmaj goldsmith 's innovative ( for the period ) score ... highly recommended for its quintessential marriage of images and sounds ... \n",
              " \n",
              "  xxmaj the talent on view here , and the obvious xxunk its cast and crew have for this film ( evident in every frame ) make this a must see .,xxbos xxmaj how has this piece of crap stayed on xxup tv this long ? xxmaj it 's terrible . xxmaj it makes me want to shoot someone . xxmaj it 's so fake that it is actually worse than a 1940s sci - fi movie . i 'd rather have a stroke than watch this nonsense . i remember watching it when it first came out . i thought , hey this could be interesting , then i found out how absolutely , insanely , ridiculously stupid it really was . xxmaj it was so bad that i actually took out my pocket knife and stuck my hand to the table . \n",
              " \n",
              "  xxmaj please people , stop watching this and all other reality shows , they 're the trash that is jamming the networks and canceling quality programming that requires some thought to create .,xxbos xxmaj dale \" xxmaj apollo \" xxmaj cook stars as xxmaj mike a renegade cop who joins forces with a xxmaj karate instructor ( xxmaj evan xxmaj lurie ) to save the daughter that could be either one of them could be the father . xxmaj awful cinematography and poor acting make this one unwatchable . xxmaj besides who asked for a sequel to xxmaj american xxmaj kickboxer 1 ?,xxbos xxmaj this movie was terrible to put it simply . i was n't expecting it to be great , but i was n't expecting it to be as bad as it was . xxmaj it seemed that they took a really bad , wannabe xxmaj kung - xxmaj fu movie added some xxmaj street xxmaj fighter names and thought that would good enough to pass it off as a xxmaj street xxmaj fighter movie . xxmaj horrible , almost nonexistent plot , bad acting , and terrible fight scenes make this movie not worth the time it takes to watch it . xxmaj at times it was funny though , but not intentionally . xxmaj when certain characters try to be serious or they throw out some line they think would be good catch phrase you ca n't help but laugh at how poor the acting was .,xxbos xxmaj reading other more positive comments you could be forgiven for thinking this trash is comparable with xxmaj john xxmaj waters movies , let me assure other xxmaj waters fans who may be persuaded to watch this ... xxmaj it 's xxmaj not . xxmaj the only comparison between this and xxmaj waters movies is that 's its marginally twisted . xxmaj that s it . xxmaj if that was all it took to make a good movie then everyone would be doing it , xxmaj waters has a visual style and a wicked sense of humour . xxmaj the makers of xxmaj bride of xxmaj frank have no style whatsoever , they seem to have mistaken an old inarticulate person as a source of comedy . xxmaj guess what , xxmaj frank swears a lot , he 's old that s pretty much the whole humour section of the movie . xxmaj as for the \" shocking \" murders , i swear i nearly fell asleep , this is so ridiculously bad you ca n't even be shocked by such things , i 'm guessing the blood squirting excessively from severed heads is supposed to be funny , it can be if done right , sadly nothing is done right in this film .\n",
              "y: LMLabelList\n",
              ",,,,\n",
              "Path: /root/.fastai/data/imdb;\n",
              "\n",
              "Valid: LabelList (10000 items)\n",
              "x: LMTextList\n",
              "xxbos i finally got hold of a xxup dvd copy of this production and was xxunk with curiosity , since i had read so many people praising it to the skies , particularly xxmaj angela xxmaj lansbury 's portrayal of xxmaj mrs. xxmaj lovett . i saw the xxmaj tim xxmaj burton movie a few months ago and thought it over the top and overly bloody ; thankfully this version is not so horrifying gory but it suffers dramatically in too many other ways for it to be in the least satisfying to me . \n",
              " \n",
              "  xxmaj to begin with , the casting . xxmaj george xxmaj hearn is adequate and at least shows some expression ( as opposed to xxmaj johnny xxmaj depp 's unending wooden face in the movie ) . xxmaj angela xxmaj lansbury is , quite simply , annoying . xxmaj at least she has enough power in her voice to get the point across as opposed to xxmaj helena xxmaj bonham xxmaj carter 's piping and expressionless little girl 's voice , but subtlety seems to be only a word in the dictionary to xxmaj ms. xxmaj lansbury . xxmaj one can not be drawn into the story when one of the main characters spends her entire time mugging and winking in a \" look , xxmaj ma , i 'm acting ! \" fashion and being far too aware of the audience . xxmaj this is not something that is typical of stage productions , heaven knows -- i have been a regular xxunk of many productions at the xxmaj stratford xxmaj xxunk for many years and stage actors do xxup not behave in that fashion as a rule ( at least those who want to continue to find regular employment do not ! ) ... \n",
              " \n",
              "  xxmaj betsy xxmaj joslyn . xxmaj oh dear , oh dear , oh dear . xxmaj did anybody besides me notice that she ca n't sing this role even vaguely appropriately ? xxmaj and her playing xxmaj george xxmaj hearn 's daughter is just creepy , considering that she was married to him at the time . xxmaj is n't she supposed to be a sweet little sixteen - year - old ? xxmaj yes , i realize that this is what acting is all about , but not once did she convince me that she was any younger than about thirty - five , and the phrase \" mutton dressed as lamb \" seems to have been coined just for her . xxmaj her butchering of \" xxmaj green xxmaj finch xxmaj and xxmaj linnet xxmaj bird \" had me gnashing my teeth and ready to turn off the xxup dvd player at once . xxmaj that song was done so well in xxmaj tim xxmaj burton 's movie , and this was a sad shock . xxmaj the song requires the vocal range of xxmaj julie xxmaj andrews in the 1960 's and a purity of voice that is only comparable to that of a boy soprano . xxmaj any vibrato at all kills it dead , and xxmaj ms. xxmaj joslyn spent the entire time warbling so hard that i thought she was about to fall off of her ladder because she was trembling so much from the effort at sustaining coloratura notes with a voice that is a mezzo at best . xxmaj let us pass over the spectacle of her vibrating at least a quarter tone flat on at least three of the higher notes ... xxmaj this is quite simply not a coloratura role and perhaps a discerning director should have told her that -- but the fact that she was married to the star might possibly have tied the director 's hands . \n",
              " \n",
              "  xxmaj cris xxmaj xxunk was adequate , but again obviously far too old for the role and there is zero chemistry between him and xxmaj ms. xxmaj joslyn , which makes the whole subplot fall completely flat . i am reminded a little of past stage productions of xxmaj wagner 's xxmaj ring cycle where , due to the vocal power required for the singers to bellow over the sound of a full xxmaj wagnerian orchestra they would have to cast based upon ability to penetrate vocally as opposed to any appearance or acting ability or even a good voice , which is why you have the caricature of the massive mountainous xxmaj viking - horned xxmaj xxunk with a triple chin and a beard , when the libretto calls for an ethereal beauty who is eternally young and bewitching . xxmaj the casting of the \" juvenile \" leads is exactly like that -- if you close your eyes you can almost believe in xxmaj mr. xxmaj xxunk 's xxmaj anthony , but as soon as you look at the screen the illusion is shattered . ( xxmaj and at xxup no time can you ever believe in xxmaj ms. xxmaj joslyn 's xxmaj johanna ... ) xxmaj for me , the rest of the production was completely lost because of three out of the four major characters were so obviously miscast . i can not give a proper review of anything else because they were so distracting that they spoiled the rest of the production . i really ca n't understand why people rave about this badly - shot and self - conscious filming of a stage play . xxmaj surely there 's more to camera work in the theatre than just xxunk a camera down in the front row ? xxmaj if i want that , i 'll go to a decent play , preferably at the xxmaj stratford xxmaj festival , where at least they work together for the production and are n't constantly mugging for the camera . i give it three stars only because the quality of the production apart from the antics of xxmaj lansbury and xxmaj joslyn seems adequate if not spectacular . \n",
              " \n",
              "  xxmaj probably the best thing one can do is buy the soundtrack of the film and a cast recording of this play , and then combine the two to make a bearable whole . xxmaj that 's what i 'm going to do , and try to forget that i ever bothered to rent this wholly unremarkable production .,xxbos xxmaj after xxunk the man responsible for the murder of his boss , xxmaj deputy xxmaj sheriff xxmaj thomas xxmaj jefferson xxmaj geronimo , xxup iii , is assigned the task of taking the killer back to xxmaj italy . xxmaj on the way , however , the plane is diverted to xxmaj malta . xxmaj not long after landing , the killer escapes . xxmaj now , and with little help from the xxmaj maltese police , xxmaj deputy xxmaj sheriff xxmaj geronimo is out to recapture a murderer . xxmaj but will his \" shoot first , take names later \" brand of xxmaj texas justice work in a foreign country ? \n",
              " \n",
              "  xxmaj let me get this out right up front , i 've seen xxmaj final xxmaj justice both with and without the xxmaj mystery xxmaj science xxmaj theater 3000 commentary . i 've seen the scenes that were cut that help make the movie a more coherent whole . xxmaj and i 've seen the cut - up xxup tv version that was used for xxup mst3k. xxmaj having said that , i 've got to admit that i much prefer the xxup mst3 k version . xxmaj why ? xxmaj because xxmaj final xxmaj justice is one lousy movie . xxmaj the xxup mst3 k commentary helps make it much more palatable . xxmaj on its own , it 's a real snoozer of an action movie with corny dialogue ( often delivered with such thick xxmaj italian accents that it 's impossible to understand ) , bad acting , weak direction , gigantic plot holes , and most everything else you 'll find in a bad movie . xxmaj and if most of xxmaj final xxmaj justice was n't \" so bad , it 's good \" , it would be one terribly dull movie on top of everything else . xxmaj so , yes , i enjoy the often very funny xxup mst3 k commentary over the bad movie on its own . \n",
              " \n",
              "  xxmaj my main sticking points with the xxup mst3 k commentary and with most of the reviews i 've read on xxmaj final xxmaj justice , however , involve the criticisms of xxmaj joe xxmaj don xxmaj baker . xxmaj the main weaknesses in xxmaj baker 's performance actually have nothing to do with his size or the wardrobe choices of his character or any of the other jokes flung in his direction . xxmaj instead , i think much of it is has to do with the poor decision to cast him in the lead in the first place . xxmaj joe xxmaj don xxmaj baker has always struck me as a decent enough actor , but he 's not the kind of guy i would call an \" action hero \" by any stretch of the imagination . xxmaj he 's more of a sidekick as he demonstrated with solid performances in a couple of xxmaj james xxmaj bond movies . xxmaj or if you really want to blame someone for the problems with xxmaj final xxmaj justice , point your finger at director xxmaj greydon xxmaj clark . xxmaj clark 's resume ca n't begin to compare with xxmaj baker 's . xxmaj so i say , \" xxmaj lay off xxmaj joe xxmaj don xxmaj baker ! \",xxbos xxmaj rubbish - xxmaj utter rubbish xxmaj why ? \n",
              " \n",
              "  - xxmaj its not a comedy - xxmaj its xxmaj bad xxmaj acting - xxmaj not xxmaj storyline - xxmaj makes as much sense as my cat does - xxmaj the characters are out of character - xxup badly xxup xxunk \n",
              " \n",
              "  xxmaj yeah - xxmaj the list goes on \n",
              " \n",
              "  xxmaj this xxup is xxup not what xxmaj french and saunders are used to doing , they should stick to making great comedy 's like xxmaj ab xxmaj fab , xxmaj vicar of xxmaj xxunk . xxmaj not this xxmaj rubbish . \n",
              " \n",
              "  xxmaj kill this series before it gives the great xxmaj british comedy a bad name . xxmaj seriously , my dog is a better source of comedy when it is asleep !,xxbos xxmaj fay , the sister of the notorious xxmaj nobel prize - winning smut poet xxmaj simon xxmaj grim , still loves xxmaj henry xxmaj fool . xxmaj their son receives an ingenious orgy - in - a - box from an undisclosed sender and a chase across three continents ensues , involving a supremely sad - sack collection of government agents , terrorists , flight attendants , and bellhops . \n",
              " \n",
              "  xxmaj parker xxmaj posey delivers a perfectly timed comic performance , including some brilliant physical work . xxmaj with strong contributions by xxmaj xxunk xxmaj xxunk and xxmaj saffron xxmaj burrows , xxmaj fay xxmaj grim proves in the best xxmaj billy xxmaj wilder tradition that nothing is funnier than a beautiful woman in trouble . \n",
              " \n",
              "  xxmaj another good score by xxmaj hartley ( and thanks in the credits to the xxmaj american xxmaj academy in xxmaj berlin , where xxmaj hartley served as a fellow in xxmaj fall 2004 ) .,xxbos a really bad little film from xxmaj cameroon , one of the sloppiest i 've ever seen . xxmaj the plot concerns a teenage girl who wants to be a man . a witch changes her , and then he spends the rest of the movie trying to get laid . xxmaj it 's riddled with many annoying penis jokes . xxmaj the script does n't even remember that the guy used to be a girl . xxmaj it 's as poorly edited as i 've ever seen , and every decent part of it is ripped off from xxmaj spike xxmaj lee 's xxmaj do the xxmaj right xxmaj thing . 3 / 10 .\n",
              "y: LMLabelList\n",
              ",,,,\n",
              "Path: /root/.fastai/data/imdb;\n",
              "\n",
              "Test: None, model=SequentialRNN(\n",
              "  (0): AWD_LSTM(\n",
              "    (encoder): Embedding(60000, 400, padding_idx=1)\n",
              "    (encoder_dp): EmbeddingDropout(\n",
              "      (emb): Embedding(60000, 400, padding_idx=1)\n",
              "    )\n",
              "    (rnns): ModuleList(\n",
              "      (0): WeightDropout(\n",
              "        (module): LSTM(400, 1152, batch_first=True)\n",
              "      )\n",
              "      (1): WeightDropout(\n",
              "        (module): LSTM(1152, 1152, batch_first=True)\n",
              "      )\n",
              "      (2): WeightDropout(\n",
              "        (module): LSTM(1152, 400, batch_first=True)\n",
              "      )\n",
              "    )\n",
              "    (input_dp): RNNDropout()\n",
              "    (hidden_dps): ModuleList(\n",
              "      (0): RNNDropout()\n",
              "      (1): RNNDropout()\n",
              "      (2): RNNDropout()\n",
              "    )\n",
              "  )\n",
              "  (1): LinearDecoder(\n",
              "    (decoder): Linear(in_features=400, out_features=60000, bias=True)\n",
              "    (output_dp): RNNDropout()\n",
              "  )\n",
              "), opt_func=functools.partial(<class 'torch.optim.adam.Adam'>, betas=(0.9, 0.99)), loss_func=FlattenedLoss of CrossEntropyLoss(), metrics=[<function accuracy at 0x7f0b75512ea0>], true_wd=True, bn_wd=True, wd=0.01, train_bn=True, path=PosixPath('/root/.fastai/data/imdb'), model_dir='models', callback_fns=[functools.partial(<class 'fastai.basic_train.Recorder'>, add_time=True, silent=False)], callbacks=[RNNTrainer\n",
              "learn: LanguageLearner(data=TextLMDataBunch;\n",
              "\n",
              "Train: LabelList (90000 items)\n",
              "x: LMTextList\n",
              "xxbos i discovered this movie via my xxunk for xxmaj jerry xxmaj goldsmith 's innovative ( for the period ) score ... highly recommended for its quintessential marriage of images and sounds ... \n",
              " \n",
              "  xxmaj the talent on view here , and the obvious xxunk its cast and crew have for this film ( evident in every frame ) make this a must see .,xxbos xxmaj how has this piece of crap stayed on xxup tv this long ? xxmaj it 's terrible . xxmaj it makes me want to shoot someone . xxmaj it 's so fake that it is actually worse than a 1940s sci - fi movie . i 'd rather have a stroke than watch this nonsense . i remember watching it when it first came out . i thought , hey this could be interesting , then i found out how absolutely , insanely , ridiculously stupid it really was . xxmaj it was so bad that i actually took out my pocket knife and stuck my hand to the table . \n",
              " \n",
              "  xxmaj please people , stop watching this and all other reality shows , they 're the trash that is jamming the networks and canceling quality programming that requires some thought to create .,xxbos xxmaj dale \" xxmaj apollo \" xxmaj cook stars as xxmaj mike a renegade cop who joins forces with a xxmaj karate instructor ( xxmaj evan xxmaj lurie ) to save the daughter that could be either one of them could be the father . xxmaj awful cinematography and poor acting make this one unwatchable . xxmaj besides who asked for a sequel to xxmaj american xxmaj kickboxer 1 ?,xxbos xxmaj this movie was terrible to put it simply . i was n't expecting it to be great , but i was n't expecting it to be as bad as it was . xxmaj it seemed that they took a really bad , wannabe xxmaj kung - xxmaj fu movie added some xxmaj street xxmaj fighter names and thought that would good enough to pass it off as a xxmaj street xxmaj fighter movie . xxmaj horrible , almost nonexistent plot , bad acting , and terrible fight scenes make this movie not worth the time it takes to watch it . xxmaj at times it was funny though , but not intentionally . xxmaj when certain characters try to be serious or they throw out some line they think would be good catch phrase you ca n't help but laugh at how poor the acting was .,xxbos xxmaj reading other more positive comments you could be forgiven for thinking this trash is comparable with xxmaj john xxmaj waters movies , let me assure other xxmaj waters fans who may be persuaded to watch this ... xxmaj it 's xxmaj not . xxmaj the only comparison between this and xxmaj waters movies is that 's its marginally twisted . xxmaj that s it . xxmaj if that was all it took to make a good movie then everyone would be doing it , xxmaj waters has a visual style and a wicked sense of humour . xxmaj the makers of xxmaj bride of xxmaj frank have no style whatsoever , they seem to have mistaken an old inarticulate person as a source of comedy . xxmaj guess what , xxmaj frank swears a lot , he 's old that s pretty much the whole humour section of the movie . xxmaj as for the \" shocking \" murders , i swear i nearly fell asleep , this is so ridiculously bad you ca n't even be shocked by such things , i 'm guessing the blood squirting excessively from severed heads is supposed to be funny , it can be if done right , sadly nothing is done right in this film .\n",
              "y: LMLabelList\n",
              ",,,,\n",
              "Path: /root/.fastai/data/imdb;\n",
              "\n",
              "Valid: LabelList (10000 items)\n",
              "x: LMTextList\n",
              "xxbos i finally got hold of a xxup dvd copy of this production and was xxunk with curiosity , since i had read so many people praising it to the skies , particularly xxmaj angela xxmaj lansbury 's portrayal of xxmaj mrs. xxmaj lovett . i saw the xxmaj tim xxmaj burton movie a few months ago and thought it over the top and overly bloody ; thankfully this version is not so horrifying gory but it suffers dramatically in too many other ways for it to be in the least satisfying to me . \n",
              " \n",
              "  xxmaj to begin with , the casting . xxmaj george xxmaj hearn is adequate and at least shows some expression ( as opposed to xxmaj johnny xxmaj depp 's unending wooden face in the movie ) . xxmaj angela xxmaj lansbury is , quite simply , annoying . xxmaj at least she has enough power in her voice to get the point across as opposed to xxmaj helena xxmaj bonham xxmaj carter 's piping and expressionless little girl 's voice , but subtlety seems to be only a word in the dictionary to xxmaj ms. xxmaj lansbury . xxmaj one can not be drawn into the story when one of the main characters spends her entire time mugging and winking in a \" look , xxmaj ma , i 'm acting ! \" fashion and being far too aware of the audience . xxmaj this is not something that is typical of stage productions , heaven knows -- i have been a regular xxunk of many productions at the xxmaj stratford xxmaj xxunk for many years and stage actors do xxup not behave in that fashion as a rule ( at least those who want to continue to find regular employment do not ! ) ... \n",
              " \n",
              "  xxmaj betsy xxmaj joslyn . xxmaj oh dear , oh dear , oh dear . xxmaj did anybody besides me notice that she ca n't sing this role even vaguely appropriately ? xxmaj and her playing xxmaj george xxmaj hearn 's daughter is just creepy , considering that she was married to him at the time . xxmaj is n't she supposed to be a sweet little sixteen - year - old ? xxmaj yes , i realize that this is what acting is all about , but not once did she convince me that she was any younger than about thirty - five , and the phrase \" mutton dressed as lamb \" seems to have been coined just for her . xxmaj her butchering of \" xxmaj green xxmaj finch xxmaj and xxmaj linnet xxmaj bird \" had me gnashing my teeth and ready to turn off the xxup dvd player at once . xxmaj that song was done so well in xxmaj tim xxmaj burton 's movie , and this was a sad shock . xxmaj the song requires the vocal range of xxmaj julie xxmaj andrews in the 1960 's and a purity of voice that is only comparable to that of a boy soprano . xxmaj any vibrato at all kills it dead , and xxmaj ms. xxmaj joslyn spent the entire time warbling so hard that i thought she was about to fall off of her ladder because she was trembling so much from the effort at sustaining coloratura notes with a voice that is a mezzo at best . xxmaj let us pass over the spectacle of her vibrating at least a quarter tone flat on at least three of the higher notes ... xxmaj this is quite simply not a coloratura role and perhaps a discerning director should have told her that -- but the fact that she was married to the star might possibly have tied the director 's hands . \n",
              " \n",
              "  xxmaj cris xxmaj xxunk was adequate , but again obviously far too old for the role and there is zero chemistry between him and xxmaj ms. xxmaj joslyn , which makes the whole subplot fall completely flat . i am reminded a little of past stage productions of xxmaj wagner 's xxmaj ring cycle where , due to the vocal power required for the singers to bellow over the sound of a full xxmaj wagnerian orchestra they would have to cast based upon ability to penetrate vocally as opposed to any appearance or acting ability or even a good voice , which is why you have the caricature of the massive mountainous xxmaj viking - horned xxmaj xxunk with a triple chin and a beard , when the libretto calls for an ethereal beauty who is eternally young and bewitching . xxmaj the casting of the \" juvenile \" leads is exactly like that -- if you close your eyes you can almost believe in xxmaj mr. xxmaj xxunk 's xxmaj anthony , but as soon as you look at the screen the illusion is shattered . ( xxmaj and at xxup no time can you ever believe in xxmaj ms. xxmaj joslyn 's xxmaj johanna ... ) xxmaj for me , the rest of the production was completely lost because of three out of the four major characters were so obviously miscast . i can not give a proper review of anything else because they were so distracting that they spoiled the rest of the production . i really ca n't understand why people rave about this badly - shot and self - conscious filming of a stage play . xxmaj surely there 's more to camera work in the theatre than just xxunk a camera down in the front row ? xxmaj if i want that , i 'll go to a decent play , preferably at the xxmaj stratford xxmaj festival , where at least they work together for the production and are n't constantly mugging for the camera . i give it three stars only because the quality of the production apart from the antics of xxmaj lansbury and xxmaj joslyn seems adequate if not spectacular . \n",
              " \n",
              "  xxmaj probably the best thing one can do is buy the soundtrack of the film and a cast recording of this play , and then combine the two to make a bearable whole . xxmaj that 's what i 'm going to do , and try to forget that i ever bothered to rent this wholly unremarkable production .,xxbos xxmaj after xxunk the man responsible for the murder of his boss , xxmaj deputy xxmaj sheriff xxmaj thomas xxmaj jefferson xxmaj geronimo , xxup iii , is assigned the task of taking the killer back to xxmaj italy . xxmaj on the way , however , the plane is diverted to xxmaj malta . xxmaj not long after landing , the killer escapes . xxmaj now , and with little help from the xxmaj maltese police , xxmaj deputy xxmaj sheriff xxmaj geronimo is out to recapture a murderer . xxmaj but will his \" shoot first , take names later \" brand of xxmaj texas justice work in a foreign country ? \n",
              " \n",
              "  xxmaj let me get this out right up front , i 've seen xxmaj final xxmaj justice both with and without the xxmaj mystery xxmaj science xxmaj theater 3000 commentary . i 've seen the scenes that were cut that help make the movie a more coherent whole . xxmaj and i 've seen the cut - up xxup tv version that was used for xxup mst3k. xxmaj having said that , i 've got to admit that i much prefer the xxup mst3 k version . xxmaj why ? xxmaj because xxmaj final xxmaj justice is one lousy movie . xxmaj the xxup mst3 k commentary helps make it much more palatable . xxmaj on its own , it 's a real snoozer of an action movie with corny dialogue ( often delivered with such thick xxmaj italian accents that it 's impossible to understand ) , bad acting , weak direction , gigantic plot holes , and most everything else you 'll find in a bad movie . xxmaj and if most of xxmaj final xxmaj justice was n't \" so bad , it 's good \" , it would be one terribly dull movie on top of everything else . xxmaj so , yes , i enjoy the often very funny xxup mst3 k commentary over the bad movie on its own . \n",
              " \n",
              "  xxmaj my main sticking points with the xxup mst3 k commentary and with most of the reviews i 've read on xxmaj final xxmaj justice , however , involve the criticisms of xxmaj joe xxmaj don xxmaj baker . xxmaj the main weaknesses in xxmaj baker 's performance actually have nothing to do with his size or the wardrobe choices of his character or any of the other jokes flung in his direction . xxmaj instead , i think much of it is has to do with the poor decision to cast him in the lead in the first place . xxmaj joe xxmaj don xxmaj baker has always struck me as a decent enough actor , but he 's not the kind of guy i would call an \" action hero \" by any stretch of the imagination . xxmaj he 's more of a sidekick as he demonstrated with solid performances in a couple of xxmaj james xxmaj bond movies . xxmaj or if you really want to blame someone for the problems with xxmaj final xxmaj justice , point your finger at director xxmaj greydon xxmaj clark . xxmaj clark 's resume ca n't begin to compare with xxmaj baker 's . xxmaj so i say , \" xxmaj lay off xxmaj joe xxmaj don xxmaj baker ! \",xxbos xxmaj rubbish - xxmaj utter rubbish xxmaj why ? \n",
              " \n",
              "  - xxmaj its not a comedy - xxmaj its xxmaj bad xxmaj acting - xxmaj not xxmaj storyline - xxmaj makes as much sense as my cat does - xxmaj the characters are out of character - xxup badly xxup xxunk \n",
              " \n",
              "  xxmaj yeah - xxmaj the list goes on \n",
              " \n",
              "  xxmaj this xxup is xxup not what xxmaj french and saunders are used to doing , they should stick to making great comedy 's like xxmaj ab xxmaj fab , xxmaj vicar of xxmaj xxunk . xxmaj not this xxmaj rubbish . \n",
              " \n",
              "  xxmaj kill this series before it gives the great xxmaj british comedy a bad name . xxmaj seriously , my dog is a better source of comedy when it is asleep !,xxbos xxmaj fay , the sister of the notorious xxmaj nobel prize - winning smut poet xxmaj simon xxmaj grim , still loves xxmaj henry xxmaj fool . xxmaj their son receives an ingenious orgy - in - a - box from an undisclosed sender and a chase across three continents ensues , involving a supremely sad - sack collection of government agents , terrorists , flight attendants , and bellhops . \n",
              " \n",
              "  xxmaj parker xxmaj posey delivers a perfectly timed comic performance , including some brilliant physical work . xxmaj with strong contributions by xxmaj xxunk xxmaj xxunk and xxmaj saffron xxmaj burrows , xxmaj fay xxmaj grim proves in the best xxmaj billy xxmaj wilder tradition that nothing is funnier than a beautiful woman in trouble . \n",
              " \n",
              "  xxmaj another good score by xxmaj hartley ( and thanks in the credits to the xxmaj american xxmaj academy in xxmaj berlin , where xxmaj hartley served as a fellow in xxmaj fall 2004 ) .,xxbos a really bad little film from xxmaj cameroon , one of the sloppiest i 've ever seen . xxmaj the plot concerns a teenage girl who wants to be a man . a witch changes her , and then he spends the rest of the movie trying to get laid . xxmaj it 's riddled with many annoying penis jokes . xxmaj the script does n't even remember that the guy used to be a girl . xxmaj it 's as poorly edited as i 've ever seen , and every decent part of it is ripped off from xxmaj spike xxmaj lee 's xxmaj do the xxmaj right xxmaj thing . 3 / 10 .\n",
              "y: LMLabelList\n",
              ",,,,\n",
              "Path: /root/.fastai/data/imdb;\n",
              "\n",
              "Test: None, model=SequentialRNN(\n",
              "  (0): AWD_LSTM(\n",
              "    (encoder): Embedding(60000, 400, padding_idx=1)\n",
              "    (encoder_dp): EmbeddingDropout(\n",
              "      (emb): Embedding(60000, 400, padding_idx=1)\n",
              "    )\n",
              "    (rnns): ModuleList(\n",
              "      (0): WeightDropout(\n",
              "        (module): LSTM(400, 1152, batch_first=True)\n",
              "      )\n",
              "      (1): WeightDropout(\n",
              "        (module): LSTM(1152, 1152, batch_first=True)\n",
              "      )\n",
              "      (2): WeightDropout(\n",
              "        (module): LSTM(1152, 400, batch_first=True)\n",
              "      )\n",
              "    )\n",
              "    (input_dp): RNNDropout()\n",
              "    (hidden_dps): ModuleList(\n",
              "      (0): RNNDropout()\n",
              "      (1): RNNDropout()\n",
              "      (2): RNNDropout()\n",
              "    )\n",
              "  )\n",
              "  (1): LinearDecoder(\n",
              "    (decoder): Linear(in_features=400, out_features=60000, bias=True)\n",
              "    (output_dp): RNNDropout()\n",
              "  )\n",
              "), opt_func=functools.partial(<class 'torch.optim.adam.Adam'>, betas=(0.9, 0.99)), loss_func=FlattenedLoss of CrossEntropyLoss(), metrics=[<function accuracy at 0x7f0b75512ea0>], true_wd=True, bn_wd=True, wd=0.01, train_bn=True, path=PosixPath('/root/.fastai/data/imdb'), model_dir='models', callback_fns=[functools.partial(<class 'fastai.basic_train.Recorder'>, add_time=True, silent=False)], callbacks=[...], layer_groups=[Sequential(\n",
              "  (0): WeightDropout(\n",
              "    (module): LSTM(400, 1152, batch_first=True)\n",
              "  )\n",
              "  (1): RNNDropout()\n",
              "), Sequential(\n",
              "  (0): WeightDropout(\n",
              "    (module): LSTM(1152, 1152, batch_first=True)\n",
              "  )\n",
              "  (1): RNNDropout()\n",
              "), Sequential(\n",
              "  (0): WeightDropout(\n",
              "    (module): LSTM(1152, 400, batch_first=True)\n",
              "  )\n",
              "  (1): RNNDropout()\n",
              "), Sequential(\n",
              "  (0): Embedding(60000, 400, padding_idx=1)\n",
              "  (1): EmbeddingDropout(\n",
              "    (emb): Embedding(60000, 400, padding_idx=1)\n",
              "  )\n",
              "  (2): LinearDecoder(\n",
              "    (decoder): Linear(in_features=400, out_features=60000, bias=True)\n",
              "    (output_dp): RNNDropout()\n",
              "  )\n",
              ")], add_time=True, silent=False)\n",
              "alpha: 2.0\n",
              "beta: 1.0], layer_groups=[Sequential(\n",
              "  (0): WeightDropout(\n",
              "    (module): LSTM(400, 1152, batch_first=True)\n",
              "  )\n",
              "  (1): RNNDropout()\n",
              "), Sequential(\n",
              "  (0): WeightDropout(\n",
              "    (module): LSTM(1152, 1152, batch_first=True)\n",
              "  )\n",
              "  (1): RNNDropout()\n",
              "), Sequential(\n",
              "  (0): WeightDropout(\n",
              "    (module): LSTM(1152, 400, batch_first=True)\n",
              "  )\n",
              "  (1): RNNDropout()\n",
              "), Sequential(\n",
              "  (0): Embedding(60000, 400, padding_idx=1)\n",
              "  (1): EmbeddingDropout(\n",
              "    (emb): Embedding(60000, 400, padding_idx=1)\n",
              "  )\n",
              "  (2): LinearDecoder(\n",
              "    (decoder): Linear(in_features=400, out_features=60000, bias=True)\n",
              "    (output_dp): RNNDropout()\n",
              "  )\n",
              ")], add_time=True, silent=False)"
            ]
          },
          "metadata": {
            "tags": []
          },
          "execution_count": 43
        }
      ]
    },
    {
      "cell_type": "code",
      "metadata": {
        "id": "ff7mT_Nss8FR",
        "colab_type": "code",
        "colab": {}
      },
      "source": [
        "learn.unfreeze()"
      ],
      "execution_count": 0,
      "outputs": []
    },
    {
      "cell_type": "code",
      "metadata": {
        "id": "Js_4__8YtHUL",
        "colab_type": "code",
        "colab": {
          "base_uri": "https://localhost:8080/",
          "height": 80
        },
        "outputId": "abe0ea50-583c-488a-d623-0f088a0c4d7a"
      },
      "source": [
        "learn.fit_one_cycle(1,1e-3,moms=(0.8,0.7))"
      ],
      "execution_count": 45,
      "outputs": [
        {
          "output_type": "display_data",
          "data": {
            "text/html": [
              "<table border=\"1\" class=\"dataframe\">\n",
              "  <thead>\n",
              "    <tr style=\"text-align: left;\">\n",
              "      <th>epoch</th>\n",
              "      <th>train_loss</th>\n",
              "      <th>valid_loss</th>\n",
              "      <th>accuracy</th>\n",
              "      <th>time</th>\n",
              "    </tr>\n",
              "  </thead>\n",
              "  <tbody>\n",
              "    <tr>\n",
              "      <td>0</td>\n",
              "      <td>3.799812</td>\n",
              "      <td>3.732604</td>\n",
              "      <td>0.329191</td>\n",
              "      <td>26:32</td>\n",
              "    </tr>\n",
              "  </tbody>\n",
              "</table>"
            ],
            "text/plain": [
              "<IPython.core.display.HTML object>"
            ]
          },
          "metadata": {
            "tags": []
          }
        }
      ]
    },
    {
      "cell_type": "code",
      "metadata": {
        "id": "Qt30RZNltLpc",
        "colab_type": "code",
        "colab": {
          "base_uri": "https://localhost:8080/",
          "height": 54
        },
        "outputId": "d5a0c8a6-b9f7-4663-8f1f-6df0dfa0be49"
      },
      "source": [
        "learn.predict('I liked this movie because ',100,temperature=1.1,min_p=0.001)"
      ],
      "execution_count": 46,
      "outputs": [
        {
          "output_type": "execute_result",
          "data": {
            "text/plain": [
              "'I liked this movie because  it brought back a few of the ideas that are \" good \" , but still found the edge of an early one like this ; you would give anything a try , an idea of just plain bad , good and bad everything so real . i laughed out loud by this guy saying in the first minute i really laughed the whole way through , why he was lying in the floor , that s as long as the scene on earth , the girl wearing a baseball mask , why he would n\\'t allow her to show'"
            ]
          },
          "metadata": {
            "tags": []
          },
          "execution_count": 46
        }
      ]
    },
    {
      "cell_type": "code",
      "metadata": {
        "id": "6f4a6N8EzaRb",
        "colab_type": "code",
        "colab": {}
      },
      "source": [
        "learn.save('stage-movie.pkl')"
      ],
      "execution_count": 0,
      "outputs": []
    },
    {
      "cell_type": "code",
      "metadata": {
        "id": "Txcvq7Rc0j1M",
        "colab_type": "code",
        "colab": {}
      },
      "source": [
        "learn.save_encoder('fine_tuned_enc')"
      ],
      "execution_count": 0,
      "outputs": []
    },
    {
      "cell_type": "code",
      "metadata": {
        "id": "_dUMp-hLzsyN",
        "colab_type": "code",
        "colab": {
          "base_uri": "https://localhost:8080/",
          "height": 236
        },
        "outputId": "5d13df7d-7f35-4e9f-8431-690eef50c3c7"
      },
      "source": [
        "data_clas = (TextList.from_folder(path,vocab=data_lm.vocab)\n",
        "        .split_by_folder(valid='test')\n",
        "        .label_from_folder(classes=['neg','pos'])\n",
        "        .filter_missing_y()\n",
        "        .databunch(bs=20))\n",
        "data_clas.save('tmp_clas')"
      ],
      "execution_count": 51,
      "outputs": [
        {
          "output_type": "display_data",
          "data": {
            "text/html": [
              ""
            ],
            "text/plain": [
              "<IPython.core.display.HTML object>"
            ]
          },
          "metadata": {
            "tags": []
          }
        },
        {
          "output_type": "display_data",
          "data": {
            "text/html": [
              ""
            ],
            "text/plain": [
              "<IPython.core.display.HTML object>"
            ]
          },
          "metadata": {
            "tags": []
          }
        },
        {
          "output_type": "error",
          "ename": "TypeError",
          "evalue": "ignored",
          "traceback": [
            "\u001b[0;31m---------------------------------------------------------------------------\u001b[0m",
            "\u001b[0;31mTypeError\u001b[0m                                 Traceback (most recent call last)",
            "\u001b[0;32m<ipython-input-51-ba565bdcf47f>\u001b[0m in \u001b[0;36m<module>\u001b[0;34m()\u001b[0m\n\u001b[1;32m      1\u001b[0m data_clas = (TextList.from_folder(path,vocab=data_lm.vocab)\n\u001b[1;32m      2\u001b[0m         \u001b[0;34m.\u001b[0m\u001b[0msplit_by_folder\u001b[0m\u001b[0;34m(\u001b[0m\u001b[0mvalid\u001b[0m\u001b[0;34m=\u001b[0m\u001b[0;34m'test'\u001b[0m\u001b[0;34m)\u001b[0m\u001b[0;34m\u001b[0m\u001b[0;34m\u001b[0m\u001b[0m\n\u001b[0;32m----> 3\u001b[0;31m         \u001b[0;34m.\u001b[0m\u001b[0mlabel_from_folder\u001b[0m\u001b[0;34m(\u001b[0m\u001b[0mclasses\u001b[0m\u001b[0;34m=\u001b[0m\u001b[0;34m[\u001b[0m\u001b[0;34m'neg'\u001b[0m\u001b[0;34m,\u001b[0m\u001b[0;34m'pos'\u001b[0m\u001b[0;34m]\u001b[0m\u001b[0;34m)\u001b[0m\u001b[0;34m\u001b[0m\u001b[0;34m\u001b[0m\u001b[0m\n\u001b[0m\u001b[1;32m      4\u001b[0m         \u001b[0;34m.\u001b[0m\u001b[0mfilter_missing_y\u001b[0m\u001b[0;34m(\u001b[0m\u001b[0;34m)\u001b[0m\u001b[0;34m\u001b[0m\u001b[0;34m\u001b[0m\u001b[0m\n\u001b[1;32m      5\u001b[0m         .databunch(bs=20))\n",
            "\u001b[0;31mTypeError\u001b[0m: 'bool' object is not callable"
          ]
        }
      ]
    },
    {
      "cell_type": "code",
      "metadata": {
        "id": "wvS6ekjh0Iav",
        "colab_type": "code",
        "colab": {}
      },
      "source": [
        ""
      ],
      "execution_count": 0,
      "outputs": []
    }
  ]
}